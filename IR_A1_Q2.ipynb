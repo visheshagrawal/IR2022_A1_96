{
  "cells": [
    {
      "cell_type": "markdown",
      "metadata": {
        "id": "view-in-github",
        "colab_type": "text"
      },
      "source": [
        "<a href=\"https://colab.research.google.com/github/visheshagrawal/IR2022_A1_96/blob/main/IR_A1_Q2.ipynb\" target=\"_parent\"><img src=\"https://colab.research.google.com/assets/colab-badge.svg\" alt=\"Open In Colab\"/></a>"
      ]
    },
    {
      "cell_type": "markdown",
      "metadata": {
        "id": "H31QFVy9aGZu"
      },
      "source": [
        "**IR Assignment 1** :: **Question 2**\n",
        "\n",
        "Team Members:\n",
        "\n",
        "Aditi Soni (2018326)\n",
        "\n",
        "Vishesh Agrawal (2018420)\n"
      ]
    },
    {
      "cell_type": "markdown",
      "metadata": {
        "id": "YvWhxQ39agMg"
      },
      "source": [
        "#Importing the Libraries"
      ]
    },
    {
      "cell_type": "code",
      "execution_count": null,
      "metadata": {
        "id": "-ezIAZCtZ6A7"
      },
      "outputs": [],
      "source": [
        "# Importing the Libraries\n",
        "\n",
        "from nltk.tokenize import word_tokenize\n",
        "import nltk\n",
        "from nltk.corpus import stopwords\n",
        "from nltk.stem import PorterStemmer,SnowballStemmer,WordNetLemmatizer\n",
        "import json\n",
        "import os\n",
        "from tqdm.notebook import tqdm,tnrange\n",
        "import string\n",
        "import numpy as np\n",
        "from wordcloud import WordCloud\n",
        "import matplotlib.pyplot as plt\n",
        "from collections import defaultdict\n",
        "from tabulate import tabulate\n",
        "from functools import reduce\n",
        "import copy\n",
        "\n",
        "nltk.download(\"punkt\")\n",
        "nltk.download(\"stopwords\")"
      ]
    },
    {
      "cell_type": "markdown",
      "metadata": {
        "id": "pljrEVdAl16x"
      },
      "source": [
        "#Converting the Documents into positional indexes "
      ]
    },
    {
      "cell_type": "code",
      "execution_count": null,
      "metadata": {
        "colab": {
          "base_uri": "https://localhost:8080/"
        },
        "id": "H0PPcR5u7PsF",
        "outputId": "d00b6320-8573-471c-87f0-5e71f7ae159e"
      },
      "outputs": [
        {
          "name": "stdout",
          "output_type": "stream",
          "text": [
            "/content/drive/.shortcut-targets-by-id/15TiqBLyk8RJBhmc1guzZPOx9pU0Ch0f6/IR/HW1/Dataset\n"
          ]
        }
      ],
      "source": [
        "%cd /content/drive/MyDrive/IR/HW1/Dataset/\n",
        "%ls"
      ]
    },
    {
      "cell_type": "code",
      "source": [
        "old_db={}\n",
        "def pre_processing(text):\n",
        "  stopWords = set(stopwords.words('english'))\n",
        "  #convert text into lowercase to uniform it\n",
        "  lower_text = text.lower()\n",
        "  #Tokenization using word tokenize                                     \n",
        "  tokens = word_tokenize(lower_text)                       \n",
        "  #removing stopwords    \n",
        "  tokens_wo_stopwords = []\n",
        "  for token in tokens:\n",
        "    if token not in stopWords:\n",
        "      tokens_wo_stopwords.append(token)\n",
        "  #removing punctuation marks\n",
        "  tokens_wo_stopwords_punct = []\n",
        "  for x in tokens_wo_stopwords:\n",
        "    tokens_wo_stopwords_punct.append(remove_special_char(x))   \n",
        "  return tokens_wo_stopwords_punct\n",
        "\n",
        "\n",
        "def index_file(file,fileId):\n",
        "  tokens = pre_processing(file)\n",
        "  for pos,val in enumerate(tokens):\n",
        "    if val in old_db:\n",
        "      old_db[val][0]+=1\n",
        "      if(fileId in old_db[val][1]):\n",
        "        old_db[val][1][fileId].append(pos)\n",
        "      else:\n",
        "        old_db[val][1][fileId]=[pos]  \n",
        "    else:\n",
        "      old_db[val] = [1,{fileId:[pos]}]\n",
        "\n",
        "def remove_special_char(text):\n",
        "  punct_char = string.punctuation\n",
        "  new_string=''\n",
        "  for char in text:\n",
        "    if char.isalnum() and not char.isdigit():\n",
        "      if char not in punct_char:\n",
        "        new_string+=char\n",
        "  return new_string\n",
        "\n",
        "def file_save(dbf):\n",
        "  json.dump(dbf, open('output_q3.json', \"w\"))"
      ],
      "metadata": {
        "id": "ZBGjOpMN8iEt"
      },
      "execution_count": 67,
      "outputs": []
    },
    {
      "cell_type": "markdown",
      "source": [
        "Open all the docs, first map their paths and second generate output.json which would have positional embeddings"
      ],
      "metadata": {
        "id": "VbeJKLW_DbtP"
      }
    },
    {
      "cell_type": "code",
      "source": [
        "files_list = os.listdir(\"Humor,Hist,Media,Food\")\n",
        "fpath=[]\n",
        "count=0\n",
        "for file in files_list:\n",
        "    count += 1\n",
        "    path2 = os.path.join(\"Humor,Hist,Media,Food\", file)\n",
        "    fpath.append(path2)\n",
        "\n",
        "# json.dump(fpath, open(\"mapping_q2.json\", \"w\"))\n",
        "json.dump(fpath, open(\"mapping_q3.json\", \"w\"))\n",
        "\n",
        "\n",
        "for i,filePath in enumerate(tqdm(fpath)):\n",
        "    try:\n",
        "        file = open(filePath, encoding=\"utf8\")\n",
        "        read = file.read().replace('\\n', ' ')    \n",
        "    except Exception as e:\n",
        "        file = open(filePath, encoding=\"unicode_escape\")\n",
        "        read = file.read().replace('\\n', ' ')\n",
        "    file.close()\n",
        "    #Will automatically update db\n",
        "    index_file(read, i)\n",
        "    #Save and dump that db in a json file\n",
        "    file_save(old_db)"
      ],
      "metadata": {
        "colab": {
          "base_uri": "https://localhost:8080/",
          "height": 49,
          "referenced_widgets": [
            "75dc5a6682244449a3d4a023dfec32d9",
            "265eafff0db14140a0ff4944585efa40",
            "35ed4b789ba04e6d91aa4f6c6f2d131f",
            "99b79c61b02943a38e63f27b3bc05749",
            "9af22e248ecb45538f07cb38f16588d5",
            "ef940120faeb4dc689d9239abbe938bc",
            "703a7a2bf0834dc2979410e1cd3d35d0",
            "a94bd9fbac99422799400a4256172d9f",
            "8366701014384db3a1da2d0be4461458",
            "a2ca6b0631114b14b3dbd424f5c03ce0",
            "f2345d41183147749f2ffca45ee0236f"
          ]
        },
        "id": "uo5Atcx3AtoJ",
        "outputId": "b8060fd4-6e0c-4eca-9a7e-5dfb8aa18cf0"
      },
      "execution_count": 68,
      "outputs": [
        {
          "output_type": "display_data",
          "data": {
            "application/vnd.jupyter.widget-view+json": {
              "model_id": "75dc5a6682244449a3d4a023dfec32d9",
              "version_minor": 0,
              "version_major": 2
            },
            "text/plain": [
              "  0%|          | 0/1133 [00:00<?, ?it/s]"
            ]
          },
          "metadata": {}
        }
      ]
    },
    {
      "cell_type": "markdown",
      "metadata": {
        "id": "dnOhxr_olkyd"
      },
      "source": [
        "#Query Part Handling"
      ]
    },
    {
      "cell_type": "markdown",
      "metadata": {
        "id": "SWf1QrGZvpPO"
      },
      "source": [
        "Following the **Preprocessing Format** of our Text\n",
        "\n",
        "\n",
        "1.   Convert the text to lower case\n",
        "2.   Perform word tokenization\n",
        "1.   Remove stopwords from tokens\n",
        "2.   Remove punctuation marks from tokens\n",
        "1.   Remove blank space tokens\n",
        "\n",
        "\n",
        "\n",
        "\n",
        "\n",
        "\n"
      ]
    },
    {
      "cell_type": "code",
      "execution_count": 70,
      "metadata": {
        "id": "CN-MHE7NyvzM"
      },
      "outputs": [],
      "source": [
        "def remove_special_char(text):\n",
        "  punct_char = string.punctuation\n",
        "  new_string=''\n",
        "  for char in text:\n",
        "    if char.isalnum() and not char.isdigit():\n",
        "      if char not in punct_char:\n",
        "        new_string+=char\n",
        "  return new_string"
      ]
    },
    {
      "cell_type": "code",
      "execution_count": 71,
      "metadata": {
        "id": "JG764pKNZfwY"
      },
      "outputs": [],
      "source": [
        "def get_postings(terms):\n",
        "    ret_list=[]\n",
        "    for term in terms:\n",
        "      ret_list.append([])\n",
        "      for i in db[term][1]:\n",
        "        ret_list[-1].append([i,db[term][1][i]])\n",
        "    return ret_list\n",
        "\n",
        "def get_docs_from_postings(postings):\n",
        "    ret_list=[]\n",
        "    for p in postings:\n",
        "      ret_list.append([])\n",
        "      for x in p:\n",
        "        ret_list[-1].append(x[0])\n",
        "    return ret_list"
      ]
    },
    {
      "cell_type": "code",
      "execution_count": 72,
      "metadata": {
        "id": "gmZ2TQzFV0I7"
      },
      "outputs": [],
      "source": [
        "def intersect_lists(lists):\n",
        "  if len(lists)==0:\n",
        "      return []\n",
        "  lists.sort(key=len)\n",
        "  ret_list=set(lists[0])\n",
        "  for i in range(len(lists)-1):\n",
        "    ret_list=set(ret_list)&set(lists[i+1])\n",
        "  ret_list=list(ret_list)\n",
        "  return ret_list"
      ]
    },
    {
      "cell_type": "code",
      "execution_count": 73,
      "metadata": {
        "id": "v-9jptV7vNes"
      },
      "outputs": [],
      "source": [
        "def pre_processing(text):\n",
        "  stopWords = set(stopwords.words('english'))\n",
        "  #convert text into lowercase to uniform it\n",
        "  lower_text = text.lower()\n",
        "  #Tokenization using word tokenize                                     \n",
        "  tokens = word_tokenize(lower_text)                       \n",
        "  #removing stopwords    \n",
        "  tokens_wo_stopwords = []\n",
        "  for token in tokens:\n",
        "    if token not in stopWords:\n",
        "      tokens_wo_stopwords.append(token)\n",
        "  #removing punctuation marks\n",
        "  tokens_wo_stopwords_punct = []\n",
        "  for x in tokens_wo_stopwords:\n",
        "    tokens_wo_stopwords_punct.append(remove_special_char(x))   \n",
        "  #Removing blank space tokens\n",
        "  validTokens = []\n",
        "  for x in tokens_wo_stopwords_punct:\n",
        "    if len(x)>1:\n",
        "      validTokens.append(x)\n",
        "  print(validTokens)\n",
        "  return validTokens"
      ]
    },
    {
      "cell_type": "code",
      "execution_count": 74,
      "metadata": {
        "id": "mhQiSBb12Zk9"
      },
      "outputs": [],
      "source": [
        "def get_mapping(files):\n",
        "  print('Total Documents:',len(files))\n",
        "  mapping=json.load(open('mapping_q3.json'))\n",
        "  data= list(map(lambda i:(i,mapping[i]),files)) \n",
        "  data.sort()\n",
        "  print(tabulate(data,headers=['Document ID','Location']))"
      ]
    },
    {
      "cell_type": "code",
      "execution_count": 75,
      "metadata": {
        "id": "Jnt5oqGFe4y2"
      },
      "outputs": [],
      "source": [
        "#Load the output file and use db\n",
        "db=json.load(open('output_q3.json'))\n",
        "db=defaultdict(lambda:[],db)"
      ]
    },
    {
      "cell_type": "code",
      "execution_count": 76,
      "metadata": {
        "id": "OB8Yq-3xuxeE"
      },
      "outputs": [],
      "source": [
        "def perform_query(phrase):\n",
        "  phrase_pp= pre_processing(phrase)    \n",
        "  print(\"Query:\",phrase_pp)\n",
        "  \n",
        "  # if(len(db.keys())==0):      \n",
        "  #     self.load()\n",
        "  \n",
        "  for term in phrase_pp:               \n",
        "    if(term not in db):\n",
        "      return []\n",
        "\n",
        "  if(len(phrase_pp)==1):                      \n",
        "    result= db[phrase_pp[0]][1].keys()\n",
        "    result=list(result)\n",
        "\n",
        "  else:\n",
        "    postings=get_postings(phrase_pp)    \n",
        "    docs=get_docs_from_postings(postings)\n",
        "    docs=intersect_lists(docs)     \n",
        "\n",
        "    for i in range(len(postings)):      \n",
        "      postings[i]=[x for x in postings[i] if x[0] in docs]\n",
        "    \n",
        "    postings=copy.deepcopy(postings)\n",
        "  \n",
        "    for i in range(len(postings)):      \n",
        "      for j in range(len(postings[i])):\n",
        "        postings[i][j][1]=[x-i for x in postings[i][j][1]]\n",
        "\n",
        "    \n",
        "    result=[]\n",
        "    for i in range(len(postings[0])):\n",
        "      intersection=intersect_lists([x[i][1] for x in postings]) \n",
        "      if len(intersection)>0:\n",
        "        result.append(postings[0][i][0])            \n",
        "\n",
        "  result=list(map(int,result))    \n",
        "  get_mapping(result)         \n",
        "  return result"
      ]
    },
    {
      "cell_type": "code",
      "execution_count": 79,
      "metadata": {
        "colab": {
          "base_uri": "https://localhost:8080/"
        },
        "id": "37CJb7fgt-W9",
        "outputId": "7261296f-0f5d-4edd-d7a0-92fd57004ea8"
      },
      "outputs": [
        {
          "output_type": "stream",
          "name": "stdout",
          "text": [
            "['long', 'known']\n",
            "Query: ['long', 'known']\n",
            "Total Documents: 7\n",
            "  Document ID  Location\n",
            "-------------  -----------------------------------\n",
            "           52  Humor,Hist,Media,Food/llong.hum\n",
            "          150  Humor,Hist,Media,Food/research.hum\n",
            "          366  Humor,Hist,Media,Food/jargon.phd\n",
            "          368  Humor,Hist,Media,Food/lampoon.jok\n",
            "          409  Humor,Hist,Media,Food/resrch_phrase\n",
            "          923  Humor,Hist,Media,Food/acne1.txt\n",
            "         1123  Humor,Hist,Media,Food/resrch_p.hra\n"
          ]
        }
      ],
      "source": [
        "# phrase = input()\n",
        "# phrase = \"real aphrodisiacs obviously\"\n",
        "phrase= \"has long been known that\"\n",
        "output = perform_query(phrase)"
      ]
    },
    {
      "cell_type": "code",
      "execution_count": null,
      "metadata": {
        "colab": {
          "base_uri": "https://localhost:8080/",
          "height": 126
        },
        "id": "qyb7SKLCoTP6",
        "outputId": "7075ee4a-0e31-4397-bfa4-772172e57468"
      },
      "outputs": [
        {
          "data": {
            "application/vnd.google.colaboratory.intrinsic+json": {
              "type": "string"
            },
            "text/plain": [
              "\"HERBSAPHRODISIACSSEXHERBALISTNARCOTICDAMIANAAQUARIAN\\nAPHRODISIACS - Aquarian\\n\\n\\nAPHRODISIACS by Aquarian\\n------------------------\\n\\nAphrodisiacs! The word itself can send a tingle of anticipation\\ndown your spine. Throughout the ages almost every culture has\\nused various `substances', usually herbal in origin, to put some\\nzip into their love lives or in an attempt to cure the impotent.\\nThe types of preparation employed as aphrodisiacs ranged from the\\nuseless (except perhaps for their psychological effects) to the\\nextremely dangerous, some being toxic enough to cause death!\\nHowever, leaving those dangers behind....\\n\\nThere were four main types of herbal substances used as\\naphrodisiacs. The first and most dangerous was the narcotic, used\\nto intoxicate the user's object of desire, thereby rendering them\\nincapable of responding to an unwanted sexual advance. These\\naren't real aphrodisiacs obviously, just a way of weakening\\nanother person's will. These substances are extremely dangerous\\nin even slight doses and are now justifiably illegal in most\\nparts of the world.\\n\\nThe second type were substances that would irritate the mucous\\nmembrane of the genitalia, hopefully producing a warm, itching\\nfeeling similar to sexual arousal. Unfortunately, what often\\nhappens is that the genitalia become inflamed, causing permanent\\ndamage. The prospect of kidney problems and other unpleasant\\nside-effects is also high. This type of so-called aphrodisiac is\\nbest left alone.\\n\\nThe next group of substances used as aphrodisiacs were herbs \\nthat alleviated medical disorders that interfered with normal\\nsexual function. Any herb that helped to alleviate the symptoms\\nof a variety of genito-urinary tract infections, or that supplied\\nbadly needed vitamins or minerals that were lacking in the diet,\\ncould be considered as aphrodisiac, as they would allow a person\\nwith previous physical problems to function normally. \\n\\nAn example is Ephedra nevadensis which has been used as a remedy\\nfor kidney, bladder and urinary problems and as an aphrodisiac.\\nIn some parts of the world Kelp (Macrocystis pyrifera) is\\nconsidered to be aphrodisiac. Kelp is rich in  many vitamins and\\nminerals, among them iodine, necessary for the proper function of\\nthe thyroid gland. Lack of iodine can result in excessive\\nphysical fatigue and a lowered sex drive. \\n\\nThe fourth type of herbal aphrodisiac is the one that seems to\\nhave the effect of directly increasing sexual desire and prowess,\\neven increasing the intensity of the sensations felt during\\norgasm. After some extensive research and experimentation the two\\nherbs that seem to produce the best results in this regard are\\nKava Kava root and Damiana leaves. \\n\\nKava Kava is obtained from the shrub Piper methysticum, which is\\nnative to the Polynesian Islands, It has been used by the\\nIslanders as a religious and visionary herb and aphrodisiac for\\nmost of their history. Since none of the active ingredients of\\nKava Kava are water soluble, the natives would pre-chew the roots\\nand then blend this saliva/root mixture with coconut milk. The\\nresulting liquid was then fermented to produce a potent beverage\\nthat was used for important rituals. The effect of the drink is\\nto relax spinal activity, producing an euphoric state of\\nrelaxation but without impairing mental activity. Some subjects\\nalso experience a tingling feeling in the genitalia, producing\\nall the ingredients for an interesting sexual experience. \\n\\nIf you would like to try this kava drink (!) mix together in a\\nblender; one ounce of powdered Kava Kava root, two tablespoons of\\nolive oil, one tablespoon of soya lecithin granules and ten\\nounces of water. Blend on high for one minute. This amount will\\nsuffice for 2-4 people. \\n\\n**Over use of Kava Kava will cause dangerous respiratory and skin\\nproblems.**\\n\\nDamiana is obtained from the shrub Turnera diffusa, which is\\nnative to the U.S. Southwest and northern Mexico. The inhabitants\\nof this region have used Damiana for many years as a remedy for\\nnervous disorders, and as a tonic and aphrodisiac. Damiana seems\\nto have a positive toning effect on both the nervous system and\\nsexual organs, especially when combined in equal parts with Saw\\nPalmetto berries. Some users of the combination tea (Damiana and\\nSaw Palmetto) report that, taken an hour or so before sexual\\nactivity, it helps produce a more satisfactory experience. The\\nbest results seem to be obtained when Damiana is taken in\\nmoderation over a period of time. Using the tea mentioned above\\n(one cup per day for two weeks) seems to have stimulating effects\\non sexual performance.                                           \\n                               \\nMy favourite Damiana recipe is a delightfully strong tasting\\ncordial. To produce this `Damiana liqueur' soak one ounce of\\nDamiana Leaves, two tablespoons of Saw Palmetto berries, two\\ntablespoons of Angelica root and a l/2 tablespoon of vanilla pods\\nin 750 ml. of whisky. After one week, strain the mixture through\\na coffee filter and save the liquid. Re-soak the herbs, etc. in\\n750 ml. distilled water for another week and then strain this\\nsecond mixture. Heat the second mix to approximately 80C and\\ndissolve one cup of honey into the hot liquid. After the honey\\nhas dissolved, remove from the heat, allow to cool somewhat and\\nthen add it to the first (whisky) mixture. \\n\\nYou must then age the whole thing for at least a month! One ounce\\nof liqueur, taken once a day for a few weeks should produce\\ninteresting results. Herbs usually work in a gentle fashion so\\ndon't expect instantaneous results. Indeed, because of their\\ndifferent metabolism, some people may not experience any effects\\nwhatever, while others may find the results too potent. Use these\\nherbs in a respectful manner and use them in moderation,\\nover-indulgence or extended use may have harmful side-effects.\\nMost importantly, be wise, oh and by the way... enjoy yourselves!\\nThis Article is taken from The Herbalist, newsletter of the \\nCanadian Herbal Research Society. COPYRIGHT June 1989.  \\n  \\nMembership in the Society is $25.00 Canadian per year. You \\nreceive four copies of the Journal each year and help to promote\\n\\nherbalism and botanic medicine throughout Canada.  \\n  \\nTHE SOCIETY HAS NO PAID OFFICIALS and is run entirely by \\nvolunteers from among the membership.  \\n   \\nWhy not call our BBS? Files are available for download covering\\nall aspects of holistic health and lifestyle. International\\ne-mail service for holistic practitioners and those interested in\\ncomplimentary/alternative therapies. \\n \\nIf you have any files that you feel may be of interest to our \\nusers please feel free to upload them. \\n \\nHerbal Research Society BBS (416) 730-1702 \\n \\n \\nCanadian Herbal Research Society.  \\nP.O. Box 82. Stn. A.  \\nWillowdale, Ont. CANADA.  \\nM2N 5S7.  \\n(416) 730-8077 \\n\\n\\n\\x1a\""
            ]
          },
          "execution_count": 16,
          "metadata": {},
          "output_type": "execute_result"
        }
      ],
      "source": [
        "# file = open(\"Humor,Hist,Media,Food/aphrodis.txt\")\n",
        "# file.read()"
      ]
    }
  ],
  "metadata": {
    "colab": {
      "collapsed_sections": [
        "YvWhxQ39agMg",
        "pljrEVdAl16x"
      ],
      "name": "IR_A1_Q2.ipynb",
      "provenance": [],
      "mount_file_id": "1gfCGGD-C7UrsHvimMq_C8FK_TMK2S1xC",
      "authorship_tag": "ABX9TyO8UvfNsRI6+AgP2IZGEJjP",
      "include_colab_link": true
    },
    "kernelspec": {
      "display_name": "Python 3",
      "name": "python3"
    },
    "language_info": {
      "name": "python"
    },
    "widgets": {
      "application/vnd.jupyter.widget-state+json": {
        "75dc5a6682244449a3d4a023dfec32d9": {
          "model_module": "@jupyter-widgets/controls",
          "model_name": "HBoxModel",
          "model_module_version": "1.5.0",
          "state": {
            "_view_name": "HBoxView",
            "_dom_classes": [],
            "_model_name": "HBoxModel",
            "_view_module": "@jupyter-widgets/controls",
            "_model_module_version": "1.5.0",
            "_view_count": null,
            "_view_module_version": "1.5.0",
            "box_style": "",
            "layout": "IPY_MODEL_265eafff0db14140a0ff4944585efa40",
            "_model_module": "@jupyter-widgets/controls",
            "children": [
              "IPY_MODEL_35ed4b789ba04e6d91aa4f6c6f2d131f",
              "IPY_MODEL_99b79c61b02943a38e63f27b3bc05749",
              "IPY_MODEL_9af22e248ecb45538f07cb38f16588d5"
            ]
          }
        },
        "265eafff0db14140a0ff4944585efa40": {
          "model_module": "@jupyter-widgets/base",
          "model_name": "LayoutModel",
          "model_module_version": "1.2.0",
          "state": {
            "_view_name": "LayoutView",
            "grid_template_rows": null,
            "right": null,
            "justify_content": null,
            "_view_module": "@jupyter-widgets/base",
            "overflow": null,
            "_model_module_version": "1.2.0",
            "_view_count": null,
            "flex_flow": null,
            "width": null,
            "min_width": null,
            "border": null,
            "align_items": null,
            "bottom": null,
            "_model_module": "@jupyter-widgets/base",
            "top": null,
            "grid_column": null,
            "overflow_y": null,
            "overflow_x": null,
            "grid_auto_flow": null,
            "grid_area": null,
            "grid_template_columns": null,
            "flex": null,
            "_model_name": "LayoutModel",
            "justify_items": null,
            "grid_row": null,
            "max_height": null,
            "align_content": null,
            "visibility": null,
            "align_self": null,
            "height": null,
            "min_height": null,
            "padding": null,
            "grid_auto_rows": null,
            "grid_gap": null,
            "max_width": null,
            "order": null,
            "_view_module_version": "1.2.0",
            "grid_template_areas": null,
            "object_position": null,
            "object_fit": null,
            "grid_auto_columns": null,
            "margin": null,
            "display": null,
            "left": null
          }
        },
        "35ed4b789ba04e6d91aa4f6c6f2d131f": {
          "model_module": "@jupyter-widgets/controls",
          "model_name": "HTMLModel",
          "model_module_version": "1.5.0",
          "state": {
            "_view_name": "HTMLView",
            "style": "IPY_MODEL_ef940120faeb4dc689d9239abbe938bc",
            "_dom_classes": [],
            "description": "",
            "_model_name": "HTMLModel",
            "placeholder": "​",
            "_view_module": "@jupyter-widgets/controls",
            "_model_module_version": "1.5.0",
            "value": "100%",
            "_view_count": null,
            "_view_module_version": "1.5.0",
            "description_tooltip": null,
            "_model_module": "@jupyter-widgets/controls",
            "layout": "IPY_MODEL_703a7a2bf0834dc2979410e1cd3d35d0"
          }
        },
        "99b79c61b02943a38e63f27b3bc05749": {
          "model_module": "@jupyter-widgets/controls",
          "model_name": "FloatProgressModel",
          "model_module_version": "1.5.0",
          "state": {
            "_view_name": "ProgressView",
            "style": "IPY_MODEL_a94bd9fbac99422799400a4256172d9f",
            "_dom_classes": [],
            "description": "",
            "_model_name": "FloatProgressModel",
            "bar_style": "success",
            "max": 1133,
            "_view_module": "@jupyter-widgets/controls",
            "_model_module_version": "1.5.0",
            "value": 1133,
            "_view_count": null,
            "_view_module_version": "1.5.0",
            "orientation": "horizontal",
            "min": 0,
            "description_tooltip": null,
            "_model_module": "@jupyter-widgets/controls",
            "layout": "IPY_MODEL_8366701014384db3a1da2d0be4461458"
          }
        },
        "9af22e248ecb45538f07cb38f16588d5": {
          "model_module": "@jupyter-widgets/controls",
          "model_name": "HTMLModel",
          "model_module_version": "1.5.0",
          "state": {
            "_view_name": "HTMLView",
            "style": "IPY_MODEL_a2ca6b0631114b14b3dbd424f5c03ce0",
            "_dom_classes": [],
            "description": "",
            "_model_name": "HTMLModel",
            "placeholder": "​",
            "_view_module": "@jupyter-widgets/controls",
            "_model_module_version": "1.5.0",
            "value": " 1133/1133 [40:19&lt;00:00,  4.19s/it]",
            "_view_count": null,
            "_view_module_version": "1.5.0",
            "description_tooltip": null,
            "_model_module": "@jupyter-widgets/controls",
            "layout": "IPY_MODEL_f2345d41183147749f2ffca45ee0236f"
          }
        },
        "ef940120faeb4dc689d9239abbe938bc": {
          "model_module": "@jupyter-widgets/controls",
          "model_name": "DescriptionStyleModel",
          "model_module_version": "1.5.0",
          "state": {
            "_view_name": "StyleView",
            "_model_name": "DescriptionStyleModel",
            "description_width": "",
            "_view_module": "@jupyter-widgets/base",
            "_model_module_version": "1.5.0",
            "_view_count": null,
            "_view_module_version": "1.2.0",
            "_model_module": "@jupyter-widgets/controls"
          }
        },
        "703a7a2bf0834dc2979410e1cd3d35d0": {
          "model_module": "@jupyter-widgets/base",
          "model_name": "LayoutModel",
          "model_module_version": "1.2.0",
          "state": {
            "_view_name": "LayoutView",
            "grid_template_rows": null,
            "right": null,
            "justify_content": null,
            "_view_module": "@jupyter-widgets/base",
            "overflow": null,
            "_model_module_version": "1.2.0",
            "_view_count": null,
            "flex_flow": null,
            "width": null,
            "min_width": null,
            "border": null,
            "align_items": null,
            "bottom": null,
            "_model_module": "@jupyter-widgets/base",
            "top": null,
            "grid_column": null,
            "overflow_y": null,
            "overflow_x": null,
            "grid_auto_flow": null,
            "grid_area": null,
            "grid_template_columns": null,
            "flex": null,
            "_model_name": "LayoutModel",
            "justify_items": null,
            "grid_row": null,
            "max_height": null,
            "align_content": null,
            "visibility": null,
            "align_self": null,
            "height": null,
            "min_height": null,
            "padding": null,
            "grid_auto_rows": null,
            "grid_gap": null,
            "max_width": null,
            "order": null,
            "_view_module_version": "1.2.0",
            "grid_template_areas": null,
            "object_position": null,
            "object_fit": null,
            "grid_auto_columns": null,
            "margin": null,
            "display": null,
            "left": null
          }
        },
        "a94bd9fbac99422799400a4256172d9f": {
          "model_module": "@jupyter-widgets/controls",
          "model_name": "ProgressStyleModel",
          "model_module_version": "1.5.0",
          "state": {
            "_view_name": "StyleView",
            "_model_name": "ProgressStyleModel",
            "description_width": "",
            "_view_module": "@jupyter-widgets/base",
            "_model_module_version": "1.5.0",
            "_view_count": null,
            "_view_module_version": "1.2.0",
            "bar_color": null,
            "_model_module": "@jupyter-widgets/controls"
          }
        },
        "8366701014384db3a1da2d0be4461458": {
          "model_module": "@jupyter-widgets/base",
          "model_name": "LayoutModel",
          "model_module_version": "1.2.0",
          "state": {
            "_view_name": "LayoutView",
            "grid_template_rows": null,
            "right": null,
            "justify_content": null,
            "_view_module": "@jupyter-widgets/base",
            "overflow": null,
            "_model_module_version": "1.2.0",
            "_view_count": null,
            "flex_flow": null,
            "width": null,
            "min_width": null,
            "border": null,
            "align_items": null,
            "bottom": null,
            "_model_module": "@jupyter-widgets/base",
            "top": null,
            "grid_column": null,
            "overflow_y": null,
            "overflow_x": null,
            "grid_auto_flow": null,
            "grid_area": null,
            "grid_template_columns": null,
            "flex": null,
            "_model_name": "LayoutModel",
            "justify_items": null,
            "grid_row": null,
            "max_height": null,
            "align_content": null,
            "visibility": null,
            "align_self": null,
            "height": null,
            "min_height": null,
            "padding": null,
            "grid_auto_rows": null,
            "grid_gap": null,
            "max_width": null,
            "order": null,
            "_view_module_version": "1.2.0",
            "grid_template_areas": null,
            "object_position": null,
            "object_fit": null,
            "grid_auto_columns": null,
            "margin": null,
            "display": null,
            "left": null
          }
        },
        "a2ca6b0631114b14b3dbd424f5c03ce0": {
          "model_module": "@jupyter-widgets/controls",
          "model_name": "DescriptionStyleModel",
          "model_module_version": "1.5.0",
          "state": {
            "_view_name": "StyleView",
            "_model_name": "DescriptionStyleModel",
            "description_width": "",
            "_view_module": "@jupyter-widgets/base",
            "_model_module_version": "1.5.0",
            "_view_count": null,
            "_view_module_version": "1.2.0",
            "_model_module": "@jupyter-widgets/controls"
          }
        },
        "f2345d41183147749f2ffca45ee0236f": {
          "model_module": "@jupyter-widgets/base",
          "model_name": "LayoutModel",
          "model_module_version": "1.2.0",
          "state": {
            "_view_name": "LayoutView",
            "grid_template_rows": null,
            "right": null,
            "justify_content": null,
            "_view_module": "@jupyter-widgets/base",
            "overflow": null,
            "_model_module_version": "1.2.0",
            "_view_count": null,
            "flex_flow": null,
            "width": null,
            "min_width": null,
            "border": null,
            "align_items": null,
            "bottom": null,
            "_model_module": "@jupyter-widgets/base",
            "top": null,
            "grid_column": null,
            "overflow_y": null,
            "overflow_x": null,
            "grid_auto_flow": null,
            "grid_area": null,
            "grid_template_columns": null,
            "flex": null,
            "_model_name": "LayoutModel",
            "justify_items": null,
            "grid_row": null,
            "max_height": null,
            "align_content": null,
            "visibility": null,
            "align_self": null,
            "height": null,
            "min_height": null,
            "padding": null,
            "grid_auto_rows": null,
            "grid_gap": null,
            "max_width": null,
            "order": null,
            "_view_module_version": "1.2.0",
            "grid_template_areas": null,
            "object_position": null,
            "object_fit": null,
            "grid_auto_columns": null,
            "margin": null,
            "display": null,
            "left": null
          }
        }
      }
    }
  },
  "nbformat": 4,
  "nbformat_minor": 0
}