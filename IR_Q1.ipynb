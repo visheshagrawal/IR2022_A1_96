{
  "cells": [
    {
      "cell_type": "markdown",
      "metadata": {
        "id": "view-in-github",
        "colab_type": "text"
      },
      "source": [
        "<a href=\"https://colab.research.google.com/github/visheshagrawal/IR2022_A1_96/blob/main/IR_Q1.ipynb\" target=\"_parent\"><img src=\"https://colab.research.google.com/assets/colab-badge.svg\" alt=\"Open In Colab\"/></a>"
      ]
    },
    {
      "cell_type": "markdown",
      "metadata": {
        "id": "pIiUoYr-4dIj"
      },
      "source": [
        "---\n",
        "#Loading the colab essentials"
      ]
    },
    {
      "cell_type": "markdown",
      "metadata": {
        "id": "pc2_DpquxQ0c"
      },
      "source": [
        "## Mounting Drive"
      ]
    },
    {
      "cell_type": "code",
      "execution_count": null,
      "metadata": {
        "id": "tD8sFDHN4SE_"
      },
      "outputs": [],
      "source": [
        "#Loading the colab essentials\n",
        "from google.colab import drive\n",
        "drive.mount('/content/drive')"
      ]
    },
    {
      "cell_type": "markdown",
      "metadata": {
        "id": "mw0dLLQXs5BT"
      },
      "source": [
        "## Loading the Target Directory"
      ]
    },
    {
      "cell_type": "markdown",
      "metadata": {
        "id": "bFtSl-vHoYT8"
      },
      "source": [
        "### Aditi Location"
      ]
    },
    {
      "cell_type": "code",
      "execution_count": null,
      "metadata": {
        "id": "OCQMczDgoa5M",
        "colab": {
          "base_uri": "https://localhost:8080/"
        },
        "outputId": "04ca434d-19d4-4071-cda2-7d3d06770b4c"
      },
      "outputs": [
        {
          "output_type": "stream",
          "name": "stdout",
          "text": [
            "/content/drive/MyDrive/IR/HW1/Dataset\n"
          ]
        }
      ],
      "source": [
        "%cd /content/drive/MyDrive/IR/HW1/Dataset"
      ]
    },
    {
      "cell_type": "markdown",
      "metadata": {
        "id": "x6dW0OS3jRZw"
      },
      "source": [
        "##Installing some library\n"
      ]
    },
    {
      "cell_type": "markdown",
      "metadata": {
        "id": "BOJiP1IMs8SS"
      },
      "source": [
        "##Loading the Important Library"
      ]
    },
    {
      "cell_type": "code",
      "execution_count": null,
      "metadata": {
        "id": "k01P7VXBs4Tl",
        "colab": {
          "base_uri": "https://localhost:8080/"
        },
        "outputId": "4b6d2535-8413-4abb-c5f3-1c3ecb4e91a3"
      },
      "outputs": [
        {
          "output_type": "stream",
          "name": "stdout",
          "text": [
            "[nltk_data] Downloading package stopwords to /root/nltk_data...\n",
            "[nltk_data]   Package stopwords is already up-to-date!\n",
            "[nltk_data] Downloading package punkt to /root/nltk_data...\n",
            "[nltk_data]   Package punkt is already up-to-date!\n",
            "[nltk_data] Downloading package wordnet to /root/nltk_data...\n",
            "[nltk_data]   Unzipping corpora/wordnet.zip.\n"
          ]
        },
        {
          "output_type": "execute_result",
          "data": {
            "text/plain": [
              "True"
            ]
          },
          "metadata": {},
          "execution_count": 62
        }
      ],
      "source": [
        "import pandas as pd\n",
        "import numpy as np\n",
        "%matplotlib inline\n",
        "# For missing values visualization\n",
        "import missingno as msno\n",
        "# For Plots\n",
        "import matplotlib.pyplot as plt\n",
        "import seaborn as sns\n",
        "# For printing outputs in a beautiful way\n",
        "from pprint import pprint\n",
        "# For Normalization\n",
        "from sklearn.preprocessing import MinMaxScaler\n",
        "# For confusion matrix\n",
        "from sklearn import metrics\n",
        "from sklearn.metrics import accuracy_score\n",
        "# For cross validation\n",
        "from sklearn.model_selection import cross_val_score\n",
        "# For F_beta score\n",
        "from sklearn.metrics import fbeta_score\n",
        "# Classifiers\n",
        "from sklearn.ensemble import RandomForestClassifier\n",
        "from sklearn import svm\n",
        "from sklearn import neighbors\n",
        "from sklearn.naive_bayes import MultinomialNB\n",
        "from sklearn.linear_model import LogisticRegression\n",
        "# For Model Tuning\n",
        "from sklearn.model_selection import GridSearchCV\n",
        "from sklearn.metrics import make_scorer\n",
        "# For splitting the Data into test and train\n",
        "from sklearn.model_selection import train_test_split\n",
        "# For F-beta\n",
        "from sklearn.metrics import fbeta_score, make_scorer\n",
        "# for legends\n",
        "import matplotlib.patches as mpatches\n",
        "#os annd list dir\n",
        "import os\n",
        "#json file processsing\n",
        "import json\n",
        "#NLP processing\n",
        "import nltk\n",
        "from nltk.tokenize import word_tokenize\n",
        "from nltk.corpus import stopwords\n",
        "import string\n",
        "\n",
        "\n",
        "# Download relevant data\n",
        "nltk.download('stopwords')\n",
        "nltk.download('punkt')\n",
        "nltk.download('wordnet')"
      ]
    },
    {
      "cell_type": "markdown",
      "metadata": {
        "id": "eagA6tdVRtWn"
      },
      "source": [
        "## MatplotLib Settings"
      ]
    },
    {
      "cell_type": "code",
      "execution_count": null,
      "metadata": {
        "id": "96kbNqUcI_Qh"
      },
      "outputs": [],
      "source": [
        "%matplotlib inline\n",
        "plt.style.use('seaborn')\n",
        "sns.set(style=\"whitegrid\", color_codes=True)"
      ]
    },
    {
      "cell_type": "code",
      "execution_count": null,
      "metadata": {
        "id": "VwH9E3F1NfdY"
      },
      "outputs": [],
      "source": [
        "SMALL_SIZE = 14\n",
        "MEDIUM_SIZE = 16\n",
        "BIGGER_SIZE = 20\n",
        "\n",
        "#plt.rc('font', size=SMALL_SIZE)          # controls default text sizes\n",
        "plt.rc('axes', titlesize=BIGGER_SIZE)     # fontsize of the axes title\n",
        "plt.rc('axes', labelsize=MEDIUM_SIZE)    # fontsize of the x and y labels\n",
        "plt.rc('xtick', labelsize=SMALL_SIZE)    # fontsize of the tick labels\n",
        "plt.rc('ytick', labelsize=SMALL_SIZE)    # fontsize of the tick labels\n",
        "#plt.rc('legend', fontsize=SMALL_SIZE)    # legend fontsize\n",
        "plt.rc('figure', titlesize=BIGGER_SIZE)  # fontsize of the figure title"
      ]
    },
    {
      "cell_type": "markdown",
      "metadata": {
        "id": "NOcF0cpDoYxt"
      },
      "source": [
        "#main functions"
      ]
    },
    {
      "cell_type": "markdown",
      "metadata": {
        "id": "XAq4a31coVjN"
      },
      "source": [
        "##traversing through files and saving the paths"
      ]
    },
    {
      "cell_type": "code",
      "execution_count": null,
      "metadata": {
        "id": "bj5BK6MFmESi"
      },
      "outputs": [],
      "source": [
        "files_list = os.listdir(\"Humor,Hist,Media,Food\")\n",
        "fpath=[]\n",
        "count=0\n",
        "for file in files_list:\n",
        "    count += 1\n",
        "    path2 = os.path.join(\"Humor,Hist,Media,Food\", file)\n",
        "    fpath.append(path2)"
      ]
    },
    {
      "cell_type": "code",
      "execution_count": null,
      "metadata": {
        "id": "F5jGFIHcmGbJ"
      },
      "outputs": [],
      "source": [
        "json.dump(fpath, open(\"file_path_mapping1.json\", \"w\"))\n"
      ]
    },
    {
      "cell_type": "code",
      "execution_count": null,
      "metadata": {
        "colab": {
          "base_uri": "https://localhost:8080/"
        },
        "id": "pdg-M3G5nMSo",
        "outputId": "1a132e7d-7ce0-4026-9743-35c5346be17a"
      },
      "outputs": [
        {
          "data": {
            "text/plain": [
              "1133"
            ]
          },
          "execution_count": 45,
          "metadata": {},
          "output_type": "execute_result"
        }
      ],
      "source": [
        "count"
      ]
    },
    {
      "cell_type": "markdown",
      "metadata": {
        "id": "7bcPrZyet_6C"
      },
      "source": [
        "##preprocess"
      ]
    },
    {
      "cell_type": "code",
      "source": [
        "from nltk.stem import PorterStemmer\n",
        "from nltk.stem import WordNetLemmatizer\n",
        "\n"
      ],
      "metadata": {
        "id": "vUrVpoQKL5h_"
      },
      "execution_count": null,
      "outputs": []
    },
    {
      "cell_type": "code",
      "execution_count": null,
      "metadata": {
        "id": "kKvSG33PxsRF"
      },
      "outputs": [],
      "source": [
        "def remove_special_char(text):\n",
        "  punct_char = string.punctuation\n",
        "  new_string=''\n",
        "  for char in text:\n",
        "    if char.isalnum() and not char.isdigit():\n",
        "      if char not in punct_char:\n",
        "        new_string+=char\n",
        "  return new_string\n"
      ]
    },
    {
      "cell_type": "code",
      "execution_count": null,
      "metadata": {
        "id": "8nPSh5xEoYYx"
      },
      "outputs": [],
      "source": [
        "\n",
        "def preprocessing(text):\n",
        "  stopWords = set(stopwords.words('english'))\n",
        "\n",
        "  #Convert to lowercase\n",
        "  # Stop words removed\n",
        "\n",
        "  text = text.lower()\n",
        "  #Tokenize\n",
        "  text_tokens = word_tokenize(text)\n",
        "\n",
        "  #stemming\n",
        "  stemmer=PorterStemmer()\n",
        "  #text_tokens = list([stemmer.stem(word) for word in text_tokens])\n",
        "  #lemme\n",
        "  lemma=WordNetLemmatizer()\n",
        "  text_tokens = list([lemma.lemmatize(word) for word in text_tokens])\n",
        "  tokens_wo_stopwords = []\n",
        "  for token in text_tokens:\n",
        "    if token not in stopWords:\n",
        "      tokens_wo_stopwords.append(token)\n",
        "  #removing punctuation marks\n",
        "  tokens_wo_stopwords_punct = []\n",
        "  for x in tokens_wo_stopwords:\n",
        "    tokens_wo_stopwords_punct.append(remove_special_char(x))   \n",
        "  #Removing blank space tokens\n",
        "  validTokens = []\n",
        "  for x in tokens_wo_stopwords_punct:\n",
        "    if len(x)>1:\n",
        "      validTokens.append(x)\n",
        "  return validTokens"
      ]
    },
    {
      "cell_type": "code",
      "execution_count": null,
      "metadata": {
        "id": "7aMvinbK3a3I"
      },
      "outputs": [],
      "source": [
        "def read_file(filePath):\n",
        "    try:\n",
        "        file = open(filePath, encoding=\"utf8\")\n",
        "        read = file.read().replace('\\n', ' ')    \n",
        "    except Exception as e:\n",
        "        file = open(filePath, encoding=\"unicode_escape\")\n",
        "        read = file.read().replace('\\n', ' ')\n",
        "    file.close()\n",
        "    return read"
      ]
    },
    {
      "cell_type": "markdown",
      "metadata": {
        "id": "4FWsvqKDuBdA"
      },
      "source": [
        "##inverted Index"
      ]
    },
    {
      "cell_type": "markdown",
      "metadata": {
        "id": "-XbUuLHwgMTC"
      },
      "source": [
        "#running the code\n"
      ]
    },
    {
      "cell_type": "code",
      "execution_count": null,
      "metadata": {
        "id": "YTrSfMarm6Fz"
      },
      "outputs": [],
      "source": [
        "dataset_output={}"
      ]
    },
    {
      "cell_type": "code",
      "execution_count": null,
      "metadata": {
        "id": "ePLezvL2z2Td"
      },
      "outputs": [],
      "source": [
        "\n",
        "def indexing(tokens,file_num):\n",
        "  for i in tokens:\n",
        "    if i  not in dataset_output:\n",
        "      dataset_output[i]=[file_num]\n",
        "    else:\n",
        "      dataset_output[i].append(file_num)\n",
        "\n",
        "\n"
      ]
    },
    {
      "cell_type": "code",
      "execution_count": null,
      "metadata": {
        "id": "05DEOP3r4wMz"
      },
      "outputs": [],
      "source": [
        "\n",
        "for i,filePath in enumerate(fpath):\n",
        "  read=read_file(filePath)\n",
        "  tokens=preprocessing(read) #tokenizing and preprocessing\n",
        "  indexing(tokens,i) # performing indexin\n",
        "  json.dump(dataset_output, open(\"output_lemma_final_1.json\", \"w\"))"
      ]
    },
    {
      "cell_type": "code",
      "execution_count": null,
      "metadata": {
        "colab": {
          "base_uri": "https://localhost:8080/"
        },
        "id": "Qgn2cH42ghtz",
        "outputId": "6a619315-1116-4e4a-e8b2-bbba88f09a26"
      },
      "outputs": [
        {
          "output_type": "execute_result",
          "data": {
            "text/plain": [
              "54855"
            ]
          },
          "metadata": {},
          "execution_count": 49
        }
      ],
      "source": [
        "len(dataset_output)"
      ]
    },
    {
      "cell_type": "code",
      "execution_count": null,
      "metadata": {
        "colab": {
          "base_uri": "https://localhost:8080/"
        },
        "id": "n3gQgIoFAE5Y",
        "outputId": "5f4fa870-901c-477c-9024-e1be47f728a2"
      },
      "outputs": [
        {
          "output_type": "execute_result",
          "data": {
            "text/plain": [
              "54855"
            ]
          },
          "metadata": {},
          "execution_count": 50
        }
      ],
      "source": [
        "len(dataset_output)"
      ]
    },
    {
      "cell_type": "markdown",
      "metadata": {
        "id": "z8X6luk-but1"
      },
      "source": [
        "#Queries handling\n"
      ]
    },
    {
      "cell_type": "markdown",
      "metadata": {
        "id": "RNh0T5GKb1NT"
      },
      "source": [
        "##Preprocessing input"
      ]
    },
    {
      "cell_type": "code",
      "execution_count": null,
      "metadata": {
        "id": "9UGVbuN2bxdT"
      },
      "outputs": [],
      "source": [
        "def pre_process_q(inp):\n",
        "  stopWords = set(stopwords.words('english'))\n",
        "  inp = inp.lower()\n",
        "  text_tokens = word_tokenize(inp)\n",
        "  #stemming\n",
        "  \n",
        "  stemmer=PorterStemmer()\n",
        "  #text_tokens = list([stemmer.stem(word) for word in text_tokens])\n",
        "\n",
        "  #lemma\n",
        "  \n",
        "  lemma=WordNetLemmatizer()\n",
        "  text_tokens = list([lemma.lemmatize(word) for word in text_tokens])\n",
        "  \n",
        "  tokens_wo_stopwords = []\n",
        "  for token in text_tokens:\n",
        "    if token not in stopWords:\n",
        "      tokens_wo_stopwords.append(token)\n",
        "  #removing punctuation marks\n",
        "  tokens_wo_stopwords_punct = []\n",
        "  for x in tokens_wo_stopwords:\n",
        "    tokens_wo_stopwords_punct.append(remove_special_char(x))   \n",
        "  #Removing blank space tokens\n",
        "  validTokens = []\n",
        "  for x in tokens_wo_stopwords_punct:\n",
        "    if len(x)>1:\n",
        "      validTokens.append(x)\n",
        "  return validTokens\n",
        "  \n",
        "  "
      ]
    },
    {
      "cell_type": "markdown",
      "metadata": {
        "id": "w6a9EFmjhfvz"
      },
      "source": [
        "##Query Processing"
      ]
    },
    {
      "cell_type": "code",
      "execution_count": null,
      "metadata": {
        "id": "NqfhlohtsUYh"
      },
      "outputs": [],
      "source": [
        "input_sen=\"\"\n",
        "ops=[]"
      ]
    },
    {
      "cell_type": "code",
      "execution_count": null,
      "metadata": {
        "id": "Z7DOyDuvilsI"
      },
      "outputs": [],
      "source": [
        "def query_processing(input_sen,ops):\n",
        "  tokens1=pre_process_q(input_sen,ops)"
      ]
    },
    {
      "cell_type": "markdown",
      "metadata": {
        "id": "dcQ6sTQAhikZ"
      },
      "source": [
        "###x OR y"
      ]
    },
    {
      "cell_type": "code",
      "execution_count": null,
      "metadata": {
        "id": "YC2voZW2ilF5"
      },
      "outputs": [],
      "source": [
        "def x_or_y(term1_post,term2_post):\n",
        "  term1_postings=set(term1_post)\n",
        "  term2_postings=set(term2_post)\n",
        "  or_=set.union(term1_post,term2_post)\n",
        "  return or_\n"
      ]
    },
    {
      "cell_type": "markdown",
      "metadata": {
        "id": "-7Vj5nn3hrin"
      },
      "source": [
        "###x AND y"
      ]
    },
    {
      "cell_type": "code",
      "execution_count": null,
      "metadata": {
        "id": "6tad9PpA_zn3"
      },
      "outputs": [],
      "source": [
        "def x_and_y(term1_postings,term2_postings):\n",
        "  term1_postings=set(term1_postings)\n",
        "  term2_postings=set(term2_postings)\n",
        "  and_=set.intersection(term1_postings,term2_postings)\n",
        "  return and_"
      ]
    },
    {
      "cell_type": "markdown",
      "metadata": {
        "id": "qQdcet2GhuGT"
      },
      "source": [
        "###x AND NOT y"
      ]
    },
    {
      "cell_type": "code",
      "execution_count": null,
      "metadata": {
        "id": "ghvR5ociAH3Y"
      },
      "outputs": [],
      "source": [
        "def f1(t1,t2):\n",
        "  candidate=[]\n",
        "  for i in t1:\n",
        "    if i not in t2:\n",
        "      candidate.append(i)\n",
        "  return candidate"
      ]
    },
    {
      "cell_type": "markdown",
      "metadata": {
        "id": "9hKdR3iEhxgh"
      },
      "source": [
        "###x OR NOT y\n"
      ]
    },
    {
      "cell_type": "code",
      "execution_count": null,
      "metadata": {
        "id": "BzrKmqpHhdmm"
      },
      "outputs": [],
      "source": [
        "def f2(t1,t2):\n",
        "  #or not\n",
        "  candidate=[]\n",
        "  for i in range(0,1133):\n",
        "    if i not in t2:\n",
        "      candidate.append(i)\n",
        "  for j in t2:\n",
        "    if j not in t1:\n",
        "      candidate.append(i)\n",
        "  return candidate"
      ]
    },
    {
      "cell_type": "markdown",
      "metadata": {
        "id": "dwOecX1BqEhd"
      },
      "source": [
        "### Number of Comparisons"
      ]
    },
    {
      "cell_type": "code",
      "execution_count": null,
      "metadata": {
        "id": "mHB4lGHkqTvr"
      },
      "outputs": [],
      "source": [
        "## merge algo\n",
        "def num_com(term1_postings, term2_postings):\n",
        "  i=0 #term1\n",
        "  j=0 # term2\n",
        "  result=0 # number of comparisions\n",
        "  term1_postings=list(term1_postings)\n",
        "  term2_postings=list(term2_postings)\n",
        "  term1_postings.sort()\n",
        "  term2_postings.sort()\n",
        "  while(i< len(term1_postings) and j<len(term2_postings)):\n",
        "    result+=1\n",
        "    if (term1_postings[i]>term2_postings[j]):\n",
        "      j+=1\n",
        "    elif (term1_postings[i]<term2_postings[j]):\n",
        "      i+=1\n",
        "    else:\n",
        "      j+=1\n",
        "      i+=1\n",
        "  return result"
      ]
    },
    {
      "cell_type": "markdown",
      "metadata": {
        "id": "zZv7fnPrK-gK"
      },
      "source": [
        "####Case 1 : AND"
      ]
    },
    {
      "cell_type": "code",
      "execution_count": null,
      "metadata": {
        "id": "0x6PnewCkFp8"
      },
      "outputs": [],
      "source": [
        "def num_com_and(term1_postings,term2_postings):\n",
        "  a=num_com(term1_postings, term2_postings)\n",
        "  return a\n"
      ]
    },
    {
      "cell_type": "markdown",
      "metadata": {
        "id": "GT_6dTL8LKm_"
      },
      "source": [
        "####Case 2 : OR"
      ]
    },
    {
      "cell_type": "code",
      "execution_count": null,
      "metadata": {
        "id": "DloJZLYVkI6r"
      },
      "outputs": [],
      "source": [
        "def num_com_or(term1_postings,term2_postings):\n",
        "  a=num_com(term1_postings, term2_postings)\n",
        "  return a"
      ]
    },
    {
      "cell_type": "markdown",
      "metadata": {
        "id": "_22btmQeLKvF"
      },
      "source": [
        "####Case 2 : AND NOT"
      ]
    },
    {
      "cell_type": "code",
      "execution_count": null,
      "metadata": {
        "id": "Aa5o6aE-kJ_w"
      },
      "outputs": [],
      "source": [
        "def num_com_andNOT(term1_postings,term2_postings):\n",
        "  universal_set=set(np.arange(1133))#edit number here\n",
        "  set_diff=universal_set-set(term2_postings)\n",
        "  a= num_com(term1_postings,set_diff)\n",
        "  return a"
      ]
    },
    {
      "cell_type": "markdown",
      "metadata": {
        "id": "u7T14WtaLK1w"
      },
      "source": [
        "####Case 1 : ORNOT"
      ]
    },
    {
      "cell_type": "code",
      "execution_count": null,
      "metadata": {
        "id": "N3BGaMUMkLKD"
      },
      "outputs": [],
      "source": [
        "def num_com_orNOT(term1_postings,term2_postings):\n",
        "  universal_set=set(np.arange(1133))#edit number here\n",
        "  set_diff=universal_set-set(term2_postings)\n",
        "  a= num_com(term1_postings,set_diff)\n",
        "  return a\n"
      ]
    },
    {
      "cell_type": "markdown",
      "metadata": {
        "id": "WiGWAHyxK7-l"
      },
      "source": [
        "###getting a properly formatted string queryy"
      ]
    },
    {
      "cell_type": "code",
      "execution_count": null,
      "metadata": {
        "id": "Z3PNxiklLBEZ"
      },
      "outputs": [],
      "source": [
        "from tabulate import tabulate\n",
        "\n",
        "def get_query(out_,inp,operands,pre_terms):\n",
        "  #out_ is the indexing file\n",
        "  #pre_terms is the pre processing term\n",
        "\n",
        "  comparisons=0\n",
        "\n",
        "  result=set(out_[pre_terms[0]])\n",
        "  n=len(pre_terms)\n",
        "  for i in range(1,n):\n",
        "    op=operands[i-1]\n",
        "    temp=out_[pre_terms[i]]\n",
        "    if(op=='AND'):\n",
        "      result=x_and_y(result,temp)\n",
        "      comparisons+=num_com_and(result,temp)\n",
        "    elif(op=='OR'):\n",
        "      result=x_or_y(result,temp)\n",
        "      comparisons+=num_com_or(result,temp)\n",
        "    elif(op=='AND NOT'):\n",
        "      result=f1(result,temp)#update\n",
        "      comparisons+=num_com_andNOT(result,temp)\n",
        "    elif(op=='OR NOT'):\n",
        "      result=f2(result,temp)#up\n",
        "      comparisons+=num_com_orNOT(result,temp)\n",
        "    else:\n",
        "      print(\"operand is invalid, please try again!\")\n",
        "      return -1\n",
        "  print(\"docs matched\",len(result))\n",
        "  print(\"number of comparisons\",comparisons)\n",
        "  mapping=json.load(open('file_path_mapping1.json'))\n",
        "  data= list(map(lambda i:(i,mapping[i]),result)) # list of tuples consisting of document id and their location\n",
        "  data.sort()\n",
        "  print(tabulate(data,headers=['Document ID','Location']))\n"
      ]
    },
    {
      "cell_type": "code",
      "execution_count": null,
      "metadata": {
        "id": "rPFXe58byA-3"
      },
      "outputs": [],
      "source": [
        "from collections import defaultdict\n",
        "\n",
        "def main_():\n",
        "  n=int(input())\n",
        "  for i in range(n):\n",
        "    sentence=input(\"enter the sentence: \")\n",
        "    operands_=list(map(str.strip,input(\"Enter the operands:- \").upper().split(\",\")))\n",
        "    out_=json.load(open(\"output_lemma_final_1.json\")) #out_ is the indexing file\n",
        "    out_=defaultdict(lambda:[],out_)\n",
        "    #print(len(out_['kid']))\n",
        "    for item in out_:\n",
        "      out_[item]=list(set(out_[item]))\n",
        "    terms=pre_process_q(sentence)\n",
        "    #print(len(out_['kid']))\n",
        "    print(\"terms\",terms)\n",
        "    #print(\"out_\",out_.keys())\n",
        "    get_query(out_,sentence,operands_,terms)"
      ]
    },
    {
      "cell_type": "code",
      "execution_count": null,
      "metadata": {
        "colab": {
          "base_uri": "https://localhost:8080/"
        },
        "id": "jv3aO_zA0UO3",
        "outputId": "229a05a7-72fa-4185-a461-a7b8089e7b8c"
      },
      "outputs": [
        {
          "output_type": "stream",
          "name": "stdout",
          "text": [
            "1\n",
            "enter the sentence: telephone,paved,roads\n",
            "Enter the operands:- OR NOT, AND NOT\n",
            "terms ['telephone', 'paved', 'road']\n",
            "docs matched 1006\n",
            "number of comparisons 2131\n",
            "  Document ID  Location\n",
            "-------------  -----------------------------------------\n",
            "            0  Humor,Hist,Media,Food/grommet.hum\n",
            "            1  Humor,Hist,Media,Food/bbq.txt\n",
            "            2  Humor,Hist,Media,Food/mowers.txt\n",
            "            3  Humor,Hist,Media,Food/herb!.hum\n",
            "            4  Humor,Hist,Media,Food/hell.jok\n",
            "            5  Humor,Hist,Media,Food/hate.hum\n",
            "            6  Humor,Hist,Media,Food/harmful.hum\n",
            "            7  Humor,Hist,Media,Food/mothers.txt\n",
            "            8  Humor,Hist,Media,Food/conan.txt\n",
            "            9  Humor,Hist,Media,Food/icm.hum\n",
            "           10  Humor,Hist,Media,Food/murph.jok\n",
            "           11  Humor,Hist,Media,Food/hi.tec\n",
            "           12  Humor,Hist,Media,Food/howlong.hum\n",
            "           13  Humor,Hist,Media,Food/roach.asc\n",
            "           14  Humor,Hist,Media,Food/imprrisk.hum\n",
            "           15  Humor,Hist,Media,Food/coyote.txt\n",
            "           16  Humor,Hist,Media,Food/bible.txt\n",
            "           17  Humor,Hist,Media,Food/incarhel.hum\n",
            "           19  Humor,Hist,Media,Food/murphy.txt\n",
            "           20  Humor,Hist,Media,Food/impurmat.hum\n",
            "           21  Humor,Hist,Media,Food/horoscop.jok\n",
            "           22  Humor,Hist,Media,Food/insanity.hum\n",
            "           23  Humor,Hist,Media,Food/investi.hum\n",
            "           24  Humor,Hist,Media,Food/bless.bc\n",
            "           25  Humor,Hist,Media,Food/cartoon_.txt\n",
            "           26  Humor,Hist,Media,Food/interv.hum\n",
            "           27  Humor,Hist,Media,Food/insure.hum\n",
            "           28  Humor,Hist,Media,Food/terms.hum\n",
            "           29  Humor,Hist,Media,Food/ivan.hum\n",
            "           30  Humor,Hist,Media,Food/jac&tuu.hum\n",
            "           31  Humor,Hist,Media,Food/japrap.hum\n",
            "           32  Humor,Hist,Media,Food/test.jok\n",
            "           33  Humor,Hist,Media,Food/dym\n",
            "           34  Humor,Hist,Media,Food/killer.hum\n",
            "           35  Humor,Hist,Media,Food/lawsuniv.hum\n",
            "           37  Humor,Hist,Media,Food/kid_diet.txt\n",
            "           38  Humor,Hist,Media,Food/testchri.txt\n",
            "           39  Humor,Hist,Media,Food/test2.jok\n",
            "           40  Humor,Hist,Media,Food/blooprs1.asc\n",
            "           41  Humor,Hist,Media,Food/kilsmur.hum\n",
            "           42  Humor,Hist,Media,Food/motrbike.jok\n",
            "           44  Humor,Hist,Media,Food/simp.txt\n",
            "           45  Humor,Hist,Media,Food/murphys.txt\n",
            "           46  Humor,Hist,Media,Food/ludeinfo.txt\n",
            "           47  Humor,Hist,Media,Food/legal.hum\n",
            "           48  Humor,Hist,Media,Food/livnware.hum\n",
            "           49  Humor,Hist,Media,Food/lif&love.hum\n",
            "           50  Humor,Hist,Media,Food/lifeimag.hum\n",
            "           51  Humor,Hist,Media,Food/lobquad.hum\n",
            "           52  Humor,Hist,Media,Food/llong.hum\n",
            "           53  Humor,Hist,Media,Food/lifeinfo.hum\n",
            "           54  Humor,Hist,Media,Food/office.txt\n",
            "           55  Humor,Hist,Media,Food/looser.hum\n",
            "           56  Humor,Hist,Media,Food/lll.hum\n",
            "           57  Humor,Hist,Media,Food/lozeuser.hum\n",
            "           58  Humor,Hist,Media,Food/luggage.hum\n",
            "           59  Humor,Hist,Media,Food/losers84.hum\n",
            "           60  Humor,Hist,Media,Food/catstory.txt\n",
            "           61  Humor,Hist,Media,Food/losers86.hum\n",
            "           63  Humor,Hist,Media,Food/ludeinfo.hum\n",
            "           64  Humor,Hist,Media,Food/phunatdi.ana\n",
            "           65  Humor,Hist,Media,Food/manilla.hum\n",
            "           66  Humor,Hist,Media,Food/luzerzo2.hum\n",
            "           67  Humor,Hist,Media,Food/makebeer.hum\n",
            "           68  Humor,Hist,Media,Food/manspace.hum\n",
            "           69  Humor,Hist,Media,Food/madscrib.hum\n",
            "           70  Humor,Hist,Media,Food/m0dzmen.hum\n",
            "           71  Humor,Hist,Media,Food/maecenas.hum\n",
            "           72  Humor,Hist,Media,Food/mailfrag.hum\n",
            "           73  Humor,Hist,Media,Food/mash.hum\n",
            "           74  Humor,Hist,Media,Food/meinkamp.hum\n",
            "           75  Humor,Hist,Media,Food/pun.txt\n",
            "           77  Humor,Hist,Media,Food/marines.hum\n",
            "           78  Humor,Hist,Media,Food/mtm.hum\n",
            "           79  Humor,Hist,Media,Food/miami.hum\n",
            "           80  Humor,Hist,Media,Food/miamadvi.hum\n",
            "           81  Humor,Hist,Media,Food/reasons.txt\n",
            "           82  Humor,Hist,Media,Food/f_tang.txt\n",
            "           83  Humor,Hist,Media,Food/memo.hum\n",
            "           84  Humor,Hist,Media,Food/miranda.hum\n",
            "           85  Humor,Hist,Media,Food/mutate.hum\n",
            "           86  Humor,Hist,Media,Food/mrscienc.hum\n",
            "           87  Humor,Hist,Media,Food/calvin.txt\n",
            "           88  Humor,Hist,Media,Food/misery.hum\n",
            "           89  Humor,Hist,Media,Food/missheav.hum\n",
            "           91  Humor,Hist,Media,Food/mydaywss.hum\n",
            "           92  Humor,Hist,Media,Food/newmex.hum\n",
            "           93  Humor,Hist,Media,Food/news.hum\n",
            "           94  Humor,Hist,Media,Food/newconst.hum\n",
            "           96  Humor,Hist,Media,Food/boston.geog\n",
            "           97  Humor,Hist,Media,Food/naivewiz.hum\n",
            "           98  Humor,Hist,Media,Food/myheart.hum\n",
            "           99  Humor,Hist,Media,Food/novel.hum\n",
            "          100  Humor,Hist,Media,Food/nuke.hum\n",
            "          101  Humor,Hist,Media,Food/nysucks.hum\n",
            "          102  Humor,Hist,Media,Food/nurds.hum\n",
            "          103  Humor,Hist,Media,Food/cartwb.son\n",
            "          105  Humor,Hist,Media,Food/cartoon.law\n",
            "          106  Humor,Hist,Media,Food/odearakk.hum\n",
            "          107  Humor,Hist,Media,Food/oldeng.hum\n",
            "          108  Humor,Hist,Media,Food/o-ttalk.hum\n",
            "          109  Humor,Hist,Media,Food/ohandre.hum\n",
            "          112  Humor,Hist,Media,Food/chunnel.txt\n",
            "          113  Humor,Hist,Media,Food/p-law.hum\n",
            "          115  Humor,Hist,Media,Food/deep.txt\n",
            "          117  Humor,Hist,Media,Food/ookpik.hum\n",
            "          118  Humor,Hist,Media,Food/opinion.hum\n",
            "          119  Humor,Hist,Media,Food/pizzawho.hum\n",
            "          120  Humor,Hist,Media,Food/planeget.hum\n",
            "          121  Humor,Hist,Media,Food/phony.hum\n",
            "          122  Humor,Hist,Media,Food/passage.hum\n",
            "          123  Humor,Hist,Media,Food/phorse.hum\n",
            "          124  Humor,Hist,Media,Food/parabl.hum\n",
            "          125  Humor,Hist,Media,Food/peatchp.hum\n",
            "          126  Humor,Hist,Media,Food/dieter.txt\n",
            "          127  Humor,Hist,Media,Food/prawblim.hum\n",
            "          128  Humor,Hist,Media,Food/prayer.hum\n",
            "          129  Humor,Hist,Media,Food/devils.jok\n",
            "          130  Humor,Hist,Media,Food/popmusi.hum\n",
            "          131  Humor,Hist,Media,Food/popconc.hum\n",
            "          132  Humor,Hist,Media,Food/policpig.hum\n",
            "          133  Humor,Hist,Media,Food/poll2res.hum\n",
            "          135  Humor,Hist,Media,Food/quest.hum\n",
            "          136  Humor,Hist,Media,Food/dead-r\n",
            "          137  Humor,Hist,Media,Food/psilaine.hum\n",
            "          138  Humor,Hist,Media,Food/ratspit.hum\n",
            "          139  Humor,Hist,Media,Food/rapmastr.hum\n",
            "          140  Humor,Hist,Media,Food/donut.txt\n",
            "          141  Humor,Hist,Media,Food/fuckyou2.txt\n",
            "          142  Humor,Hist,Media,Food/ratings.hum\n",
            "          143  Humor,Hist,Media,Food/raven.hum\n",
            "          144  Humor,Hist,Media,Food/radiolaf.hum\n",
            "          145  Humor,Hist,Media,Food/reagan.hum\n",
            "          146  Humor,Hist,Media,Food/drinkrul.jok\n",
            "          147  Humor,Hist,Media,Food/report.hum\n",
            "          148  Humor,Hist,Media,Food/repair.hum\n",
            "          149  Humor,Hist,Media,Food/rentals.hum\n",
            "          150  Humor,Hist,Media,Food/research.hum\n",
            "          151  Humor,Hist,Media,Food/docspeak.txt\n",
            "          152  Humor,Hist,Media,Food/reddye.hum\n",
            "          153  Humor,Hist,Media,Food/rockmus.hum\n",
            "          154  Humor,Hist,Media,Food/ripoffpc.hum\n",
            "          155  Humor,Hist,Media,Food/rocking.hum\n",
            "          157  Humor,Hist,Media,Food/drunk.txt\n",
            "          158  Humor,Hist,Media,Food/t_zone.jok\n",
            "          159  Humor,Hist,Media,Food/corporat.txt\n",
            "          160  Humor,Hist,Media,Food/insult\n",
            "          162  Humor,Hist,Media,Food/iqtest\n",
            "          164  Humor,Hist,Media,Food/takenote.jok\n",
            "          165  Humor,Hist,Media,Food/shuttleb.hum\n",
            "          166  Humor,Hist,Media,Food/cucumber.txt\n",
            "          167  Humor,Hist,Media,Food/skippy.hum\n",
            "          169  Humor,Hist,Media,Food/solviets.hum\n",
            "          170  Humor,Hist,Media,Food/socecon.hum\n",
            "          171  Humor,Hist,Media,Food/spydust.hum\n",
            "          172  Humor,Hist,Media,Food/spider.hum\n",
            "          173  Humor,Hist,Media,Food/social.hum\n",
            "          174  Humor,Hist,Media,Food/teens.txt\n",
            "          175  Humor,Hist,Media,Food/soleleer.hum\n",
            "          176  Humor,Hist,Media,Food/terbear.txt\n",
            "          177  Humor,Hist,Media,Food/sungenu.hum\n",
            "          178  Humor,Hist,Media,Food/stone.hum\n",
            "          179  Humor,Hist,Media,Food/top10.txt\n",
            "          180  Humor,Hist,Media,Food/termpoem.txt\n",
            "          181  Humor,Hist,Media,Food/standard.hum\n",
            "          182  Humor,Hist,Media,Food/taping.hum\n",
            "          183  Humor,Hist,Media,Food/televisi.hum\n",
            "          184  Humor,Hist,Media,Food/talebeat.hum\n",
            "          185  Humor,Hist,Media,Food/terrmcd'.hum\n",
            "          186  Humor,Hist,Media,Food/languag.jok\n",
            "          187  Humor,Hist,Media,Food/t-shirt.hum\n",
            "          188  Humor,Hist,Media,Food/t-10.hum\n",
            "          189  Humor,Hist,Media,Food/texican.dic\n",
            "          190  Humor,Hist,Media,Food/y.txt\n",
            "          191  Humor,Hist,Media,Food/test.hum\n",
            "          193  Humor,Hist,Media,Food/timetr.hum\n",
            "          194  Humor,Hist,Media,Food/textgrap.hum\n",
            "          195  Humor,Hist,Media,Food/thecube.hum\n",
            "          196  Humor,Hist,Media,Food/tickmoon.hum\n",
            "          198  Humor,Hist,Media,Food/terrnieg.hum\n",
            "          200  Humor,Hist,Media,Food/toxcwast.hum\n",
            "          201  Humor,Hist,Media,Food/koans.txt\n",
            "          202  Humor,Hist,Media,Food/let.go\n",
            "          204  Humor,Hist,Media,Food/hecomes.jok\n",
            "          205  Humor,Hist,Media,Food/turbo.hum\n",
            "          206  Humor,Hist,Media,Food/truthlsd.hum\n",
            "          207  Humor,Hist,Media,Food/voltron.hum\n",
            "          208  Humor,Hist,Media,Food/truths.hum\n",
            "          209  Humor,Hist,Media,Food/cartoon.laws\n",
            "          210  Humor,Hist,Media,Food/thesis.beh\n",
            "          211  Humor,Hist,Media,Food/thermite.ana\n",
            "          212  Humor,Hist,Media,Food/tribble.hum\n",
            "          213  Humor,Hist,Media,Food/trekwes.hum\n",
            "          214  Humor,Hist,Media,Food/wetdream.hum\n",
            "          215  Humor,Hist,Media,Food/whoops.hum\n",
            "          216  Humor,Hist,Media,Food/wagon.hum\n",
            "          217  Humor,Hist,Media,Food/why-me.hum\n",
            "          218  Humor,Hist,Media,Food/twinkie.txt\n",
            "          219  Humor,Hist,Media,Food/wedding.hum\n",
            "          220  Humor,Hist,Media,Food/whoon1st.hum\n",
            "          221  Humor,Hist,Media,Food/word.hum\n",
            "          222  Humor,Hist,Media,Food/who.txt\n",
            "          223  Humor,Hist,Media,Food/billcat.hum\n",
            "          224  Humor,Hist,Media,Food/zodiac.hum\n",
            "          225  Humor,Hist,Media,Food/yuppies.hum\n",
            "          226  Humor,Hist,Media,Food/worldend.hum\n",
            "          227  Humor,Hist,Media,Food/xtermin8.hum\n",
            "          228  Humor,Hist,Media,Food/yjohncse.hum\n",
            "          229  Humor,Hist,Media,Food/liceprof.sty\n",
            "          230  Humor,Hist,Media,Food/limerick.jok\n",
            "          231  Humor,Hist,Media,Food/hotnnot.hum\n",
            "          232  Humor,Hist,Media,Food/jeffie.heh\n",
            "          233  Humor,Hist,Media,Food/trukdeth.txt\n",
            "          235  Humor,Hist,Media,Food/tshirts.jok\n",
            "          236  Humor,Hist,Media,Food/units.mea\n",
            "          237  Humor,Hist,Media,Food/lines.jok\n",
            "          238  Humor,Hist,Media,Food/st_silic.txt\n",
            "          239  Humor,Hist,Media,Food/vaguemag.90s\n",
            "          240  Humor,Hist,Media,Food/univ.odd\n",
            "          241  Humor,Hist,Media,Food/washroom.txt\n",
            "          242  Humor,Hist,Media,Food/waitress.txt\n",
            "          243  Humor,Hist,Media,Food/wagit.txt\n",
            "          246  Humor,Hist,Media,Food/welfare.txt\n",
            "          247  Humor,Hist,Media,Food/weight.txt\n",
            "          248  Humor,Hist,Media,Food/lion.jok\n",
            "          249  Humor,Hist,Media,Food/marriage.hum\n",
            "          250  Humor,Hist,Media,Food/math.1\n",
            "          252  Humor,Hist,Media,Food/wimptest.txt\n",
            "          253  Humor,Hist,Media,Food/math.2\n",
            "          254  Humor,Hist,Media,Food/yogisays.txt\n",
            "          255  Humor,Hist,Media,Food/math.far\n",
            "          256  Humor,Hist,Media,Food/woodbugs.txt\n",
            "          257  Humor,Hist,Media,Food/chainltr.txt\n",
            "          258  Humor,Hist,Media,Food/woolly_m.amm\n",
            "          259  Humor,Hist,Media,Food/zgtoilet.txt\n",
            "          260  Humor,Hist,Media,Food/lozers\n",
            "          262  Humor,Hist,Media,Food/childhoo.jok\n",
            "          263  Humor,Hist,Media,Food/church.sto\n",
            "          264  Humor,Hist,Media,Food/climbing.let\n",
            "          265  Humor,Hist,Media,Food/netnews.10\n",
            "          267  Humor,Hist,Media,Food/co-car.jok\n",
            "          268  Humor,Hist,Media,Food/nigel.10\n",
            "          269  Humor,Hist,Media,Food/nigel.2\n",
            "          270  Humor,Hist,Media,Food/elephant.fun\n",
            "          271  Humor,Hist,Media,Food/element.jok\n",
            "          272  Humor,Hist,Media,Food/court.quips\n",
            "          274  Humor,Hist,Media,Food/hack\n",
            "          275  Humor,Hist,Media,Food/eandb.drx\n",
            "          276  Humor,Hist,Media,Food/electric.txt\n",
            "          277  Humor,Hist,Media,Food/exam.50\n",
            "          278  Humor,Hist,Media,Food/idr2.txt\n",
            "          279  Humor,Hist,Media,Food/fartting.txt\n",
            "          280  Humor,Hist,Media,Food/fartinfo.txt\n",
            "          281  Humor,Hist,Media,Food/fascist.txt\n",
            "          283  Humor,Hist,Media,Food/drinker.txt\n",
            "          284  Humor,Hist,Media,Food/final-ex.txt\n",
            "          285  Humor,Hist,Media,Food/ourfathr.txt\n",
            "          287  Humor,Hist,Media,Food/jokes.txt\n",
            "          288  Humor,Hist,Media,Food/nigel.4\n",
            "          290  Humor,Hist,Media,Food/fuck!.txt\n",
            "          291  Humor,Hist,Media,Food/fusion.sup\n",
            "          292  Humor,Hist,Media,Food/nigel.7\n",
            "          293  Humor,Hist,Media,Food/lawhunt.txt\n",
            "          294  Humor,Hist,Media,Food/lawskool.txt\n",
            "          295  Humor,Hist,Media,Food/grospoem.txt\n",
            "          296  Humor,Hist,Media,Food/passenge.sim\n",
            "          297  Humor,Hist,Media,Food/grammar.jok\n",
            "          298  Humor,Hist,Media,Food/good.txt\n",
            "          299  Humor,Hist,Media,Food/german.aut\n",
            "          300  Humor,Hist,Media,Food/rec.por\n",
            "          301  Humor,Hist,Media,Food/gd_guide.txt\n",
            "          302  Humor,Hist,Media,Food/gas.txt\n",
            "          303  Humor,Hist,Media,Food/potty.txt\n",
            "          304  Humor,Hist,Media,Food/poli_t.ics\n",
            "          305  Humor,Hist,Media,Food/polly.txt\n",
            "          306  Humor,Hist,Media,Food/pickup.lin\n",
            "          307  Humor,Hist,Media,Food/polemom.txt\n",
            "          308  Humor,Hist,Media,Food/nintendo.jok\n",
            "          309  Humor,Hist,Media,Food/pepsideg.txt\n",
            "          310  Humor,Hist,Media,Food/proof.met\n",
            "          311  Humor,Hist,Media,Food/polly_.new\n",
            "          312  Humor,Hist,Media,Food/problem.txt\n",
            "          313  Humor,Hist,Media,Food/pournell.spo\n",
            "          314  Humor,Hist,Media,Food/moonshin\n",
            "          315  Humor,Hist,Media,Food/dover.poem\n",
            "          316  Humor,Hist,Media,Food/psalm23.txt\n",
            "          317  Humor,Hist,Media,Food/proposal.jok\n",
            "          318  Humor,Hist,Media,Food/psalm_re.aga\n",
            "          319  Humor,Hist,Media,Food/psych_pr.quo\n",
            "          320  Humor,Hist,Media,Food/prooftec.txt\n",
            "          321  Humor,Hist,Media,Food/pure.mat\n",
            "          322  Humor,Hist,Media,Food/pukeprom.jok\n",
            "          323  Humor,Hist,Media,Food/prover_w.iso\n",
            "          324  Humor,Hist,Media,Food/tuflife.txt\n",
            "          325  Humor,Hist,Media,Food/python_s.ong\n",
            "          326  Humor,Hist,Media,Food/curse.txt\n",
            "          327  Humor,Hist,Media,Food/peanuts.txt\n",
            "          328  Humor,Hist,Media,Food/leech.txt\n",
            "          329  Humor,Hist,Media,Food/puzzles.jok\n",
            "          331  Humor,Hist,Media,Food/college.hum\n",
            "          332  Humor,Hist,Media,Food/pecker.txt\n",
            "          333  Humor,Hist,Media,Food/pickup.txt\n",
            "          334  Humor,Hist,Media,Food/flowchrt.txt\n",
            "          335  Humor,Hist,Media,Food/smartass.txt\n",
            "          336  Humor,Hist,Media,Food/eskimo.nel\n",
            "          337  Humor,Hist,Media,Food/height.txt\n",
            "          338  Humor,Hist,Media,Food/pipespec.txt\n",
            "          339  Humor,Hist,Media,Food/hilbilly.wri\n",
            "          341  Humor,Hist,Media,Food/hitlerap.txt\n",
            "          342  Humor,Hist,Media,Food/hitler.59\n",
            "          343  Humor,Hist,Media,Food/how_to_i.pro\n",
            "          344  Humor,Hist,Media,Food/smokers.txt\n",
            "          345  Humor,Hist,Media,Food/stereo.txt\n",
            "          346  Humor,Hist,Media,Food/snipe.txt\n",
            "          347  Humor,Hist,Media,Food/steroid.txt\n",
            "          349  Humor,Hist,Media,Food/horoscop.txt\n",
            "          350  Humor,Hist,Media,Food/htswfren.txt\n",
            "          352  Humor,Hist,Media,Food/insuranc.sty\n",
            "          353  Humor,Hist,Media,Food/humatran.jok\n",
            "          354  Humor,Hist,Media,Food/televisi.txt\n",
            "          355  Humor,Hist,Media,Food/idaho.txt\n",
            "          356  Humor,Hist,Media,Food/inlaws1.txt\n",
            "          357  Humor,Hist,Media,Food/humatra.txt\n",
            "          358  Humor,Hist,Media,Food/sysadmin.txt\n",
            "          359  Humor,Hist,Media,Food/law.sch\n",
            "          360  Humor,Hist,Media,Food/kloo.txt\n",
            "          361  Humor,Hist,Media,Food/jokeju07.txt\n",
            "          362  Humor,Hist,Media,Food/psycho.txt\n",
            "          363  Humor,Hist,Media,Food/jc-elvis.inf\n",
            "          364  Humor,Hist,Media,Food/realest.txt\n",
            "          365  Humor,Hist,Media,Food/woodbine.txt\n",
            "          366  Humor,Hist,Media,Food/jargon.phd\n",
            "          367  Humor,Hist,Media,Food/italoink.txt\n",
            "          368  Humor,Hist,Media,Food/lampoon.jok\n",
            "          369  Humor,Hist,Media,Food/sysman.txt\n",
            "          370  Humor,Hist,Media,Food/letter_f.sch\n",
            "          373  Humor,Hist,Media,Food/laws.txt\n",
            "          374  Humor,Hist,Media,Food/letgosh.txt\n",
            "          375  Humor,Hist,Media,Food/odd_to.obs\n",
            "          376  Humor,Hist,Media,Food/lucky.cha\n",
            "          378  Humor,Hist,Media,Food/nukwaste\n",
            "          379  Humor,Hist,Media,Food/luvstory.txt\n",
            "          380  Humor,Hist,Media,Food/lions.cat\n",
            "          381  Humor,Hist,Media,Food/farsi.phrase\n",
            "          382  Humor,Hist,Media,Food/oxymoron.jok\n",
            "          383  Humor,Hist,Media,Food/socks.drx\n",
            "          384  Humor,Hist,Media,Food/smurfs.cc\n",
            "          385  Humor,Hist,Media,Food/one.par\n",
            "          386  Humor,Hist,Media,Food/smiley.txt\n",
            "          387  Humor,Hist,Media,Food/primes.jok\n",
            "          388  Humor,Hist,Media,Food/signatur.jok\n",
            "          390  Humor,Hist,Media,Food/spelin_r.ifo\n",
            "          393  Humor,Hist,Media,Food/studentb.txt\n",
            "          394  Humor,Hist,Media,Food/startrek.txt\n",
            "          395  Humor,Hist,Media,Food/princess.brd\n",
            "          396  Humor,Hist,Media,Food/mr.rogers\n",
            "          397  Humor,Hist,Media,Food/puzzle.spo\n",
            "          398  Humor,Hist,Media,Food/telecom.q\n",
            "          399  Humor,Hist,Media,Food/humpty.dumpty\n",
            "          400  Humor,Hist,Media,Food/jrrt.riddle\n",
            "          401  Humor,Hist,Media,Food/number.killer\n",
            "          402  Humor,Hist,Media,Food/psalm.reagan\n",
            "          403  Humor,Hist,Media,Food/shrink.news\n",
            "          404  Humor,Hist,Media,Food/un.happy\n",
            "          405  Humor,Hist,Media,Food/poli.tics\n",
            "          406  Humor,Hist,Media,Food/prover.wisom\n",
            "          407  Humor,Hist,Media,Food/psalm_nixon\n",
            "          408  Humor,Hist,Media,Food/quick.jok\n",
            "          409  Humor,Hist,Media,Food/resrch_phrase\n",
            "          410  Humor,Hist,Media,Food/quantum.jok\n",
            "          411  Humor,Hist,Media,Food/popmach\n",
            "          412  Humor,Hist,Media,Food/rent-a_cat\n",
            "          414  Humor,Hist,Media,Food/shorties.jok\n",
            "          415  Humor,Hist,Media,Food/quotes.bug\n",
            "          417  Humor,Hist,Media,Food/rinaldos.law\n",
            "          418  Humor,Hist,Media,Food/racist.net\n",
            "          419  Humor,Hist,Media,Food/quotes.jok\n",
            "          420  Humor,Hist,Media,Food/tnd.1\n",
            "          422  Humor,Hist,Media,Food/temphell.jok\n",
            "          423  Humor,Hist,Media,Food/texican.lex\n",
            "          424  Humor,Hist,Media,Food/top10.elf\n",
            "          425  Humor,Hist,Media,Food/welfare\n",
            "          426  Humor,Hist,Media,Food/squids.gph\n",
            "          427  Humor,Hist,Media,Food/bw-phwan.hat\n",
            "          428  Humor,Hist,Media,Food/bw-summe.hat\n",
            "          429  Humor,Hist,Media,Food/aussie.lng\n",
            "          430  Humor,Hist,Media,Food/wisdom\n",
            "          431  Humor,Hist,Media,Food/speling.msk\n",
            "          432  Humor,Hist,Media,Food/firstaid.inf\n",
            "          433  Humor,Hist,Media,Food/la_times.hun\n",
            "          434  Humor,Hist,Media,Food/justify\n",
            "          435  Humor,Hist,Media,Food/outawork.erl\n",
            "          436  Humor,Hist,Media,Food/supermar.rul\n",
            "          437  Humor,Hist,Media,Food/ambrose.bie\n",
            "          438  Humor,Hist,Media,Food/oasis\n",
            "          439  Humor,Hist,Media,Food/oldtime.sng\n",
            "          440  Humor,Hist,Media,Food/oxymoron.txt\n",
            "          441  Humor,Hist,Media,Food/gaiahuma\n",
            "          442  Humor,Hist,Media,Food/kid2\n",
            "          443  Humor,Hist,Media,Food/anim_lif.txt\n",
            "          444  Humor,Hist,Media,Food/bad\n",
            "          445  Humor,Hist,Media,Food/wood\n",
            "          446  Humor,Hist,Media,Food/talkbizr.txt\n",
            "          447  Humor,Hist,Media,Food/woodsmok.txt\n",
            "          448  Humor,Hist,Media,Food/bagelope.txt\n",
            "          450  Humor,Hist,Media,Food/english\n",
            "          451  Humor,Hist,Media,Food/variety2.asc\n",
            "          452  Humor,Hist,Media,Food/empeval.txt\n",
            "          453  Humor,Hist,Media,Food/variety3.asc\n",
            "          454  Humor,Hist,Media,Food/various.txt\n",
            "          455  Humor,Hist,Media,Food/epitaph\n",
            "          456  Humor,Hist,Media,Food/engrhyme.txt\n",
            "          458  Humor,Hist,Media,Food/excuse30.txt\n",
            "          459  Humor,Hist,Media,Food/vegkill.txt\n",
            "          460  Humor,Hist,Media,Food/q.pun\n",
            "          461  Humor,Hist,Media,Food/vonthomp\n",
            "          463  Humor,Hist,Media,Food/godmonth.txt\n",
            "          464  Humor,Hist,Media,Food/growth.txt\n",
            "          465  Humor,Hist,Media,Food/gown.txt\n",
            "          466  Humor,Hist,Media,Food/cogdis.txt\n",
            "          467  Humor,Hist,Media,Food/b12.txt\n",
            "          468  Humor,Hist,Media,Food/mrsfield\n",
            "          469  Humor,Hist,Media,Food/coke.txt\n",
            "          470  Humor,Hist,Media,Food/bakebred.txt\n",
            "          471  Humor,Hist,Media,Food/coke1\n",
            "          472  Humor,Hist,Media,Food/newcoke.txt\n",
            "          473  Humor,Hist,Media,Food/snapple.rum\n",
            "          474  Humor,Hist,Media,Food/jerky.rcp\n",
            "          475  Humor,Hist,Media,Food/chili.txt\n",
            "          476  Humor,Hist,Media,Food/hamburge.nam\n",
            "          478  Humor,Hist,Media,Food/coladrik.fun\n",
            "          479  Humor,Hist,Media,Food/vegan.rcp\n",
            "          480  Humor,Hist,Media,Food/tuna.lab\n",
            "          481  Humor,Hist,Media,Food/coladrik.txt\n",
            "          482  Humor,Hist,Media,Food/mead.rcp\n",
            "          484  Humor,Hist,Media,Food/candybar.fun\n",
            "          485  Humor,Hist,Media,Food/cooking.fun\n",
            "          486  Humor,Hist,Media,Food/beginn.ers\n",
            "          487  Humor,Hist,Media,Food/coke_fan.naz\n",
            "          488  Humor,Hist,Media,Food/curry.hrb\n",
            "          489  Humor,Hist,Media,Food/appetiz.rcp\n",
            "          490  Humor,Hist,Media,Food/coke.fun\n",
            "          491  Humor,Hist,Media,Food/fajitas.rcp\n",
            "          493  Humor,Hist,Media,Food/choco-ch.ips\n",
            "          494  Humor,Hist,Media,Food/oculis.rcp\n",
            "          495  Humor,Hist,Media,Food/turkey.fun\n",
            "          496  Humor,Hist,Media,Food/bread.txt\n",
            "          497  Humor,Hist,Media,Food/recepies.fun\n",
            "          498  Humor,Hist,Media,Food/pepper.txt\n",
            "          499  Humor,Hist,Media,Food/fudge.txt\n",
            "          501  Humor,Hist,Media,Food/kashrut.txt\n",
            "          502  Humor,Hist,Media,Food/fiber.txt\n",
            "          503  Humor,Hist,Media,Food/oatbran.rec\n",
            "          504  Humor,Hist,Media,Food/x-drinks.txt\n",
            "          506  Humor,Hist,Media,Food/hotel.txt\n",
            "          507  Humor,Hist,Media,Food/boneles2.txt\n",
            "          508  Humor,Hist,Media,Food/dthought.txt\n",
            "          509  Humor,Hist,Media,Food/tpquote2.txt\n",
            "          510  Humor,Hist,Media,Food/tpquotes.txt\n",
            "          511  Humor,Hist,Media,Food/gingbeer.txt\n",
            "          512  Humor,Hist,Media,Food/gameshow.txt\n",
            "          513  Humor,Hist,Media,Food/cooking.jok\n",
            "          514  Humor,Hist,Media,Food/rinaldo.jok\n",
            "          515  Humor,Hist,Media,Food/women.jok\n",
            "          516  Humor,Hist,Media,Food/wrdnws1.txt\n",
            "          517  Humor,Hist,Media,Food/wrdnws2.txt\n",
            "          519  Humor,Hist,Media,Food/wrdnws4.txt\n",
            "          520  Humor,Hist,Media,Food/wrdnws5.txt\n",
            "          523  Humor,Hist,Media,Food/wrdnws8.txt\n",
            "          524  Humor,Hist,Media,Food/wrdnws9.txt\n",
            "          525  Humor,Hist,Media,Food/letterbx.txt\n",
            "          526  Humor,Hist,Media,Food/hierarch.txt\n",
            "          527  Humor,Hist,Media,Food/ads.txt\n",
            "          528  Humor,Hist,Media,Food/namm\n",
            "          529  Humor,Hist,Media,Food/gd_flybd.txt\n",
            "          530  Humor,Hist,Media,Food/epikarat.txt\n",
            "          531  Humor,Hist,Media,Food/adt_miam.txt\n",
            "          532  Humor,Hist,Media,Food/kanalx.txt\n",
            "          533  Humor,Hist,Media,Food/earp\n",
            "          534  Humor,Hist,Media,Food/widows\n",
            "          535  Humor,Hist,Media,Food/twinpeak.txt\n",
            "          537  Humor,Hist,Media,Food/lazarus.txt\n",
            "          538  Humor,Hist,Media,Food/barney.cn1\n",
            "          540  Humor,Hist,Media,Food/bb\n",
            "          541  Humor,Hist,Media,Food/bimg.prn\n",
            "          542  Humor,Hist,Media,Food/bmdn01.txt\n",
            "          543  Humor,Hist,Media,Food/libraway.txt\n",
            "          545  Humor,Hist,Media,Food/twinkies.jok\n",
            "          546  Humor,Hist,Media,Food/sanshop.txt\n",
            "          548  Humor,Hist,Media,Food/seeds42.txt\n",
            "          549  Humor,Hist,Media,Food/top10st1.txt\n",
            "          550  Humor,Hist,Media,Food/top10st2.txt\n",
            "          551  Humor,Hist,Media,Food/transp.txt\n",
            "          554  Humor,Hist,Media,Food/johann\n",
            "          555  Humor,Hist,Media,Food/just2\n",
            "          556  Humor,Hist,Media,Food/bnb_quot.txt\n",
            "          557  Humor,Hist,Media,Food/bored.txt\n",
            "          558  Humor,Hist,Media,Food/sw_err.txt\n",
            "          559  Humor,Hist,Media,Food/skippy.txt\n",
            "          560  Humor,Hist,Media,Food/recip1.txt\n",
            "          561  Humor,Hist,Media,Food/shooters.txt\n",
            "          562  Humor,Hist,Media,Food/slogans.txt\n",
            "          563  Humor,Hist,Media,Food/smurf-03.txt\n",
            "          564  Humor,Hist,Media,Food/smurf_co.txt\n",
            "          565  Humor,Hist,Media,Food/soccer.txt\n",
            "          566  Humor,Hist,Media,Food/beerjesus.hum\n",
            "          567  Humor,Hist,Media,Food/bozo_tv.leg\n",
            "          568  Humor,Hist,Media,Food/coffee.txt\n",
            "          569  Humor,Hist,Media,Food/diet.txt\n",
            "          571  Humor,Hist,Media,Food/econridl.fun\n",
            "          572  Humor,Hist,Media,Food/oliver.txt\n",
            "          573  Humor,Hist,Media,Food/oliver02.txt\n",
            "          574  Humor,Hist,Media,Food/sf-zine.pub\n",
            "          576  Humor,Hist,Media,Food/topten.hum\n",
            "          577  Humor,Hist,Media,Food/how2bgod.txt\n",
            "          578  Humor,Hist,Media,Food/hangover.txt\n",
            "          579  Humor,Hist,Media,Food/netmask.txt\n",
            "          580  Humor,Hist,Media,Food/chickens.txt\n",
            "          581  Humor,Hist,Media,Food/classicm.hum\n",
            "          582  Humor,Hist,Media,Food/cmu.share\n",
            "          584  Humor,Hist,Media,Food/cookbkly.how\n",
            "          585  Humor,Hist,Media,Food/fearcola.hum\n",
            "          586  Humor,Hist,Media,Food/hedgehog.txt\n",
            "          587  Humor,Hist,Media,Food/horflick.txt\n",
            "          588  Humor,Hist,Media,Food/alcohol.hum\n",
            "          590  Humor,Hist,Media,Food/beer-g\n",
            "          591  Humor,Hist,Media,Food/beergame.hum\n",
            "          592  Humor,Hist,Media,Food/dining.out\n",
            "          593  Humor,Hist,Media,Food/iced.tea\n",
            "          594  Humor,Hist,Media,Food/thievco.txt\n",
            "          595  Humor,Hist,Media,Food/aeonint.txt\n",
            "          597  Humor,Hist,Media,Food/deathhem.txt\n",
            "          598  Humor,Hist,Media,Food/bread.rec\n",
            "          599  Humor,Hist,Media,Food/brownie.rec\n",
            "          600  Humor,Hist,Media,Food/lion.txt\n",
            "          601  Humor,Hist,Media,Food/lp-assoc.txt\n",
            "          602  Humor,Hist,Media,Food/desk.txt\n",
            "          603  Humor,Hist,Media,Food/disclym.txt\n",
            "          604  Humor,Hist,Media,Food/flowchrt\n",
            "          605  Humor,Hist,Media,Food/flux_fix.txt\n",
            "          606  Humor,Hist,Media,Food/packard.txt\n",
            "          607  Humor,Hist,Media,Food/parsnip.txt\n",
            "          608  Humor,Hist,Media,Food/penisprt.txt\n",
            "          609  Humor,Hist,Media,Food/msfields.txt\n",
            "          610  Humor,Hist,Media,Food/mtv.asc\n",
            "          611  Humor,Hist,Media,Food/modstup\n",
            "          612  Humor,Hist,Media,Food/moslem.txt\n",
            "          613  Humor,Hist,Media,Food/mov_rail.txt\n",
            "          614  Humor,Hist,Media,Food/miamimth.txt\n",
            "          617  Humor,Hist,Media,Food/food\n",
            "          618  Humor,Hist,Media,Food/foodtips\n",
            "          619  Humor,Hist,Media,Food/cake.rec\n",
            "          620  Humor,Hist,Media,Food/docdict.txt\n",
            "          621  Humor,Hist,Media,Food/drinks.txt\n",
            "          623  Humor,Hist,Media,Food/bhang.fun\n",
            "          624  Humor,Hist,Media,Food/booze1.fun\n",
            "          625  Humor,Hist,Media,Food/booze2.fun\n",
            "          626  Humor,Hist,Media,Food/cgs_lst.txt\n",
            "          627  Humor,Hist,Media,Food/golnar.txt\n",
            "          628  Humor,Hist,Media,Food/red-neck.jks\n",
            "          629  Humor,Hist,Media,Food/reddwarf.sng\n",
            "          630  Humor,Hist,Media,Food/renorthr.txt\n",
            "          631  Humor,Hist,Media,Food/rns_bcl.txt\n",
            "          632  Humor,Hist,Media,Food/rns_bwl.txt\n",
            "          633  Humor,Hist,Media,Food/rns_ency.txt\n",
            "          634  Humor,Hist,Media,Food/robot.tes\n",
            "          636  Humor,Hist,Media,Food/staff.txt\n",
            "          639  Humor,Hist,Media,Food/fusion.gal\n",
            "          640  Humor,Hist,Media,Food/sfmovie.txt\n",
            "          641  Humor,Hist,Media,Food/the_ant.txt\n",
            "          642  Humor,Hist,Media,Food/mog-history\n",
            "          643  Humor,Hist,Media,Food/dalive\n",
            "          644  Humor,Hist,Media,Food/iremember\n",
            "          645  Humor,Hist,Media,Food/kilroy\n",
            "          646  Humor,Hist,Media,Food/cform2.txt\n",
            "          647  Humor,Hist,Media,Food/msorrow\n",
            "          648  Humor,Hist,Media,Food/nameisreo.txt\n",
            "          649  Humor,Hist,Media,Food/inquirer.txt\n",
            "          650  Humor,Hist,Media,Food/ins1\n",
            "          652  Humor,Hist,Media,Food/buldrwho.txt\n",
            "          654  Humor,Hist,Media,Food/epi_rns.txt\n",
            "          655  Humor,Hist,Media,Food/epi_tton.txt\n",
            "          657  Humor,Hist,Media,Food/episimp2.txt\n",
            "          659  Humor,Hist,Media,Food/epi_merm.txt\n",
            "          660  Humor,Hist,Media,Food/twilight.txt\n",
            "          661  Humor,Hist,Media,Food/gd_gal.txt\n",
            "          662  Humor,Hist,Media,Food/lost.txt\n",
            "          663  Humor,Hist,Media,Food/outlimit.txt\n",
            "          664  Humor,Hist,Media,Food/gd_drwho.txt\n",
            "          666  Humor,Hist,Media,Food/epiquest.txt\n",
            "          667  Humor,Hist,Media,Food/gd_maxhd.txt\n",
            "          668  Humor,Hist,Media,Food/gd_liqtv.txt\n",
            "          669  Humor,Hist,Media,Food/gd_hhead.txt\n",
            "          670  Humor,Hist,Media,Food/gd_frasr.txt\n",
            "          671  Humor,Hist,Media,Food/gd_ol.txt\n",
            "          674  Humor,Hist,Media,Food/ghostsch.hum\n",
            "          675  Humor,Hist,Media,Food/gd_sgrnd.txt\n",
            "          677  Humor,Hist,Media,Food/a_fish_c.apo\n",
            "          678  Humor,Hist,Media,Food/a_tv_t-p.com\n",
            "          680  Humor,Hist,Media,Food/adrian_e.faq\n",
            "          682  Humor,Hist,Media,Food/allusion\n",
            "          685  Humor,Hist,Media,Food/anime.lif\n",
            "          686  Humor,Hist,Media,Food/hbo_spec.rev\n",
            "          688  Humor,Hist,Media,Food/hitchcok.txt\n",
            "          689  Humor,Hist,Media,Food/wacky.ani\n",
            "          690  Humor,Hist,Media,Food/wkrp.epi\n",
            "          691  Humor,Hist,Media,Food/cast.lis\n",
            "          692  Humor,Hist,Media,Food/christop.int\n",
            "          693  Humor,Hist,Media,Food/chung.iv\n",
            "          694  Humor,Hist,Media,Food/clancy.txt\n",
            "          697  Humor,Hist,Media,Food/maxheadr\n",
            "          698  Humor,Hist,Media,Food/facedeth.txt\n",
            "          699  Humor,Hist,Media,Food/farsi.txt\n",
            "          700  Humor,Hist,Media,Food/nukewar.txt\n",
            "          701  Humor,Hist,Media,Food/number\n",
            "          702  Humor,Hist,Media,Food/spoonlis.txt\n",
            "          703  Humor,Hist,Media,Food/sinksub.txt\n",
            "          704  Humor,Hist,Media,Food/sorority.gir\n",
            "          705  Humor,Hist,Media,Food/petshop\n",
            "          707  Humor,Hist,Media,Food/pracjoke.txt\n",
            "          708  Humor,Hist,Media,Food/fed.txt\n",
            "          709  Humor,Hist,Media,Food/cybrtrsh.txt\n",
            "          711  Humor,Hist,Media,Food/homermmm.txt\n",
            "          712  Humor,Hist,Media,Food/how2dotv.txt\n",
            "          715  Humor,Hist,Media,Food/fish.rec\n",
            "          716  Humor,Hist,Media,Food/hitchcoc.app\n",
            "          718  Humor,Hist,Media,Food/fegg!int.txt\n",
            "          720  Humor,Hist,Media,Food/feggmagi.txt\n",
            "          721  Humor,Hist,Media,Food/normquot.txt\n",
            "          722  Humor,Hist,Media,Food/history2.oop\n",
            "          723  Humor,Hist,Media,Food/pol-corr.txt\n",
            "          724  Humor,Hist,Media,Food/poopie.txt\n",
            "          725  Humor,Hist,Media,Food/ppbeer.txt\n",
            "          726  Humor,Hist,Media,Food/pot.txt\n",
            "          727  Humor,Hist,Media,Food/headlnrs\n",
            "          728  Humor,Hist,Media,Food/hell.txt\n",
            "          729  Humor,Hist,Media,Food/hum2\n",
            "          731  Humor,Hist,Media,Food/cokeform.txt\n",
            "          732  Humor,Hist,Media,Food/contract.moo\n",
            "          733  Humor,Hist,Media,Food/cookberk\n",
            "          735  Humor,Hist,Media,Food/cooplaws\n",
            "          736  Humor,Hist,Media,Food/cuisine.txt\n",
            "          737  Humor,Hist,Media,Food/coffee.faq\n",
            "          739  Humor,Hist,Media,Food/minn.txt\n",
            "          740  Humor,Hist,Media,Food/oam-001.txt\n",
            "          741  Humor,Hist,Media,Food/oam.nfo\n",
            "          742  Humor,Hist,Media,Food/acronym.txt\n",
            "          743  Humor,Hist,Media,Food/college.txt\n",
            "          744  Humor,Hist,Media,Food/english.txt\n",
            "          745  Humor,Hist,Media,Food/figure_1.txt\n",
            "          746  Humor,Hist,Media,Food/crzycred.lst\n",
            "          747  Humor,Hist,Media,Food/arnold.txt\n",
            "          749  Humor,Hist,Media,Food/avengers.lis\n",
            "          750  Humor,Hist,Media,Food/bbc_vide.cat\n",
            "          753  Humor,Hist,Media,Food/blake7.lis\n",
            "          754  Humor,Hist,Media,Food/doc-says.txt\n",
            "          755  Humor,Hist,Media,Food/dromes.txt\n",
            "          756  Humor,Hist,Media,Food/eatme.txt\n",
            "          757  Humor,Hist,Media,Food/free-cof.fee\n",
            "          758  Humor,Hist,Media,Food/initials.rid\n",
            "          759  Humor,Hist,Media,Food/old.txt\n",
            "          760  Humor,Hist,Media,Food/post.nuc\n",
            "          761  Humor,Hist,Media,Food/quantum.phy\n",
            "          762  Humor,Hist,Media,Food/resolutn.txt\n",
            "          763  Humor,Hist,Media,Food/soporifi.abs\n",
            "          764  Humor,Hist,Media,Food/swearfrn.hum\n",
            "          766  Humor,Hist,Media,Food/c0dez.txt\n",
            "          767  Humor,Hist,Media,Food/beer.txt\n",
            "          768  Humor,Hist,Media,Food/butcher.txt\n",
            "          769  Humor,Hist,Media,Food/curiousgeorgie.txt\n",
            "          770  Humor,Hist,Media,Food/freudonseuss.txt\n",
            "          771  Humor,Hist,Media,Food/normalboy.txt\n",
            "          772  Humor,Hist,Media,Food/annoy.fascist\n",
            "          773  Humor,Hist,Media,Food/booze.fun\n",
            "          774  Humor,Hist,Media,Food/diesmurf.txt\n",
            "          775  Humor,Hist,Media,Food/elevator.fun\n",
            "          776  Humor,Hist,Media,Food/get.drunk.cheap\n",
            "          777  Humor,Hist,Media,Food/how.bugs.breakd\n",
            "          778  Humor,Hist,Media,Food/normal.boy\n",
            "          782  Humor,Hist,Media,Food/dead4.txt\n",
            "          784  Humor,Hist,Media,Food/radexposed.txt\n",
            "          785  Humor,Hist,Media,Food/carowner.txt\n",
            "          786  Humor,Hist,Media,Food/pat.txt\n",
            "          787  Humor,Hist,Media,Food/bugs.txt\n",
            "          788  Humor,Hist,Media,Food/hack7.txt\n",
            "          789  Humor,Hist,Media,Food/happyhack.txt\n",
            "          790  Humor,Hist,Media,Food/airlines\n",
            "          791  Humor,Hist,Media,Food/skincat\n",
            "          792  Humor,Hist,Media,Food/venganza.txt\n",
            "          793  Humor,Hist,Media,Food/venison.txt\n",
            "          795  Humor,Hist,Media,Food/hop.faq\n",
            "          796  Humor,Hist,Media,Food/hotpeper.txt\n",
            "          797  Humor,Hist,Media,Food/necropls.txt\n",
            "          798  Humor,Hist,Media,Food/three.txt\n",
            "          799  Humor,Hist,Media,Food/egg-bred.txt\n",
            "          800  Humor,Hist,Media,Food/dandwine.bev\n",
            "          801  Humor,Hist,Media,Food/egglentl.vgn\n",
            "          802  Humor,Hist,Media,Food/eggroll1.mea\n",
            "          803  Humor,Hist,Media,Food/engmuffn.txt\n",
            "          804  Humor,Hist,Media,Food/firecamp.txt\n",
            "          805  Humor,Hist,Media,Food/feista01.dip\n",
            "          806  Humor,Hist,Media,Food/focaccia.brd\n",
            "          807  Humor,Hist,Media,Food/frogeye1.sal\n",
            "          808  Humor,Hist,Media,Food/goldwatr.txt\n",
            "          809  Humor,Hist,Media,Food/texbeef.txt\n",
            "          810  Humor,Hist,Media,Food/garlpast.vgn\n",
            "          811  Humor,Hist,Media,Food/greenchi.txt\n",
            "          812  Humor,Hist,Media,Food/unochili.txt\n",
            "          813  Humor,Hist,Media,Food/woods.txt\n",
            "          814  Humor,Hist,Media,Food/gack!.txt\n",
            "          815  Humor,Hist,Media,Food/wonton.txt\n",
            "          816  Humor,Hist,Media,Food/whitbred.txt\n",
            "          817  Humor,Hist,Media,Food/yogurt.asc\n",
            "          820  Humor,Hist,Media,Food/damiana.hrb\n",
            "          821  Humor,Hist,Media,Food/calamus.hrb\n",
            "          822  Humor,Hist,Media,Food/imbecile.txt\n",
            "          823  Humor,Hist,Media,Food/orgfrost.bev\n",
            "          824  Humor,Hist,Media,Food/oranchic.pol\n",
            "          825  Humor,Hist,Media,Food/penndtch\n",
            "          826  Humor,Hist,Media,Food/pbcookie.des\n",
            "          827  Humor,Hist,Media,Food/pasta001.sal\n",
            "          828  Humor,Hist,Media,Food/jon.txt\n",
            "          830  Humor,Hist,Media,Food/whatbbs\n",
            "          831  Humor,Hist,Media,Food/hermsys.txt\n",
            "          832  Humor,Hist,Media,Food/antimead.bev\n",
            "          833  Humor,Hist,Media,Food/awespinh.sal\n",
            "          834  Humor,Hist,Media,Food/arcadian.txt\n",
            "          835  Humor,Hist,Media,Food/appbred.brd\n",
            "          836  Humor,Hist,Media,Food/applepie.des\n",
            "          837  Humor,Hist,Media,Food/apsaucke.des\n",
            "          838  Humor,Hist,Media,Food/banana05.brd\n",
            "          839  Humor,Hist,Media,Food/banana01.brd\n",
            "          840  Humor,Hist,Media,Food/banana03.brd\n",
            "          841  Humor,Hist,Media,Food/beershrm.fis\n",
            "          842  Humor,Hist,Media,Food/banana02.brd\n",
            "          843  Humor,Hist,Media,Food/banana04.brd\n",
            "          844  Humor,Hist,Media,Food/baklava.des\n",
            "          845  Humor,Hist,Media,Food/beershrp.fis\n",
            "          846  Humor,Hist,Media,Food/batrbred.txt\n",
            "          847  Humor,Hist,Media,Food/jambalay.pol\n",
            "          848  Humor,Hist,Media,Food/japice.bev\n",
            "          849  Humor,Hist,Media,Food/berryeto.bev\n",
            "          850  Humor,Hist,Media,Food/jawsalad.fis\n",
            "          851  Humor,Hist,Media,Food/jawgumbo.fis\n",
            "          852  Humor,Hist,Media,Food/jalapast.dip\n",
            "          853  Humor,Hist,Media,Food/jungjuic.bev\n",
            "          854  Humor,Hist,Media,Food/stagline.txt\n",
            "          855  Humor,Hist,Media,Food/mitch.txt\n",
            "          856  Humor,Hist,Media,Food/zuccmush.sal\n",
            "          857  Humor,Hist,Media,Food/margos.txt\n",
            "          858  Humor,Hist,Media,Food/strattma.txt\n",
            "          859  Humor,Hist,Media,Food/seafood.txt\n",
            "          860  Humor,Hist,Media,Food/zucantom.sal\n",
            "          861  Humor,Hist,Media,Food/montoys.txt\n",
            "          862  Humor,Hist,Media,Food/shuimai.txt\n",
            "          863  Humor,Hist,Media,Food/blkbean.txt\n",
            "          864  Humor,Hist,Media,Food/boarchil.txt\n",
            "          865  Humor,Hist,Media,Food/brdpudd.des\n",
            "          867  Humor,Hist,Media,Food/bredcake.des\n",
            "          868  Humor,Hist,Media,Food/btscke02.des\n",
            "          869  Humor,Hist,Media,Food/blkbnsrc.vgn\n",
            "          870  Humor,Hist,Media,Food/btscke01.des\n",
            "          871  Humor,Hist,Media,Food/btscke03.des\n",
            "          872  Humor,Hist,Media,Food/breadpud.des\n",
            "          873  Humor,Hist,Media,Food/capital.txt\n",
            "          874  Humor,Hist,Media,Food/bunacald.fis\n",
            "          875  Humor,Hist,Media,Food/btscke04.des\n",
            "          876  Humor,Hist,Media,Food/burrito.mea\n",
            "          877  Humor,Hist,Media,Food/btscke05.des\n",
            "          878  Humor,Hist,Media,Food/butstcod.fis\n",
            "          879  Humor,Hist,Media,Food/caesardr.sal\n",
            "          880  Humor,Hist,Media,Food/buffwing.pol\n",
            "          881  Humor,Hist,Media,Food/caramels.des\n",
            "          882  Humor,Hist,Media,Food/advrtize.txt\n",
            "          884  Humor,Hist,Media,Food/nzdrinks.txt\n",
            "          885  Humor,Hist,Media,Food/oakwood.txt\n",
            "          886  Humor,Hist,Media,Food/richbred.txt\n",
            "          887  Humor,Hist,Media,Food/recipe.004\n",
            "          888  Humor,Hist,Media,Food/recipe.001\n",
            "          889  Humor,Hist,Media,Food/recipe.009\n",
            "          890  Humor,Hist,Media,Food/recipe.005\n",
            "          891  Humor,Hist,Media,Food/renored.txt\n",
            "          892  Humor,Hist,Media,Food/recipe.006\n",
            "          893  Humor,Hist,Media,Food/recipe.010\n",
            "          894  Humor,Hist,Media,Food/recipe.007\n",
            "          895  Humor,Hist,Media,Food/recipe.011\n",
            "          896  Humor,Hist,Media,Food/recipe.003\n",
            "          897  Humor,Hist,Media,Food/recipe.002\n",
            "          898  Humor,Hist,Media,Food/recipe.012\n",
            "          899  Humor,Hist,Media,Food/oldtime.txt\n",
            "          900  Humor,Hist,Media,Food/recipe.008\n",
            "          901  Humor,Hist,Media,Food/all_grai\n",
            "          902  Humor,Hist,Media,Food/amchap2.txt\n",
            "          903  Humor,Hist,Media,Food/beer.gam\n",
            "          904  Humor,Hist,Media,Food/beergame.txt\n",
            "          905  Humor,Hist,Media,Food/beer-gui\n",
            "          906  Humor,Hist,Media,Food/gotukola.hrb\n",
            "          907  Humor,Hist,Media,Food/hitler.txt\n",
            "          908  Humor,Hist,Media,Food/coollngo2.txt\n",
            "          909  Humor,Hist,Media,Food/jimhood.txt\n",
            "          910  Humor,Hist,Media,Food/beesherb.txt\n",
            "          911  Humor,Hist,Media,Food/aniherb.txt\n",
            "          912  Humor,Hist,Media,Food/curry.txt\n",
            "          913  Humor,Hist,Media,Food/blood.txt\n",
            "          914  Humor,Hist,Media,Food/acetab1.txt\n",
            "          915  Humor,Hist,Media,Food/chinese.txt\n",
            "          916  Humor,Hist,Media,Food/antibiot.txt\n",
            "          917  Humor,Hist,Media,Food/cereal.txt\n",
            "          918  Humor,Hist,Media,Food/atherosc.txt\n",
            "          919  Humor,Hist,Media,Food/anorexia.txt\n",
            "          920  Humor,Hist,Media,Food/aphrodis.txt\n",
            "          921  Humor,Hist,Media,Food/bw.txt\n",
            "          922  Humor,Hist,Media,Food/arthriti.txt\n",
            "          923  Humor,Hist,Media,Food/acne1.txt\n",
            "          924  Humor,Hist,Media,Food/critic.txt\n",
            "          925  Humor,Hist,Media,Food/brush1.txt\n",
            "          926  Humor,Hist,Media,Food/booknuti.txt\n",
            "          927  Humor,Hist,Media,Food/1st_aid.txt\n",
            "          928  Humor,Hist,Media,Food/ayurved.txt\n",
            "          929  Humor,Hist,Media,Food/back1.txt\n",
            "          930  Humor,Hist,Media,Food/proudlyserve.txt\n",
            "          931  Humor,Hist,Media,Food/jayjay.txt\n",
            "          933  Humor,Hist,Media,Food/att.txt\n",
            "          934  Humor,Hist,Media,Food/calculus.txt\n",
            "          935  Humor,Hist,Media,Food/beerwarn.txt\n",
            "          936  Humor,Hist,Media,Food/gumbo.txt\n",
            "          937  Humor,Hist,Media,Food/btaco.txt\n",
            "          938  Humor,Hist,Media,Food/byfb.txt\n",
            "          939  Humor,Hist,Media,Food/qttofu.vgn\n",
            "          940  Humor,Hist,Media,Food/paddingurpapers.txt\n",
            "          941  Humor,Hist,Media,Food/aggie.txt\n",
            "          942  Humor,Hist,Media,Food/childrenbooks.txt\n",
            "          943  Humor,Hist,Media,Food/cartoon_laws.txt\n",
            "          945  Humor,Hist,Media,Food/coffeebeerwomen.txt\n",
            "          946  Humor,Hist,Media,Food/llamas.txt\n",
            "          947  Humor,Hist,Media,Food/confucius_say.txt\n",
            "          948  Humor,Hist,Media,Food/fireplacein.txt\n",
            "          949  Humor,Hist,Media,Food/enlightenment.txt\n",
            "          950  Humor,Hist,Media,Food/labels.txt\n",
            "          951  Humor,Hist,Media,Food/horoscope.txt\n",
            "          952  Humor,Hist,Media,Food/religion.txt\n",
            "          953  Humor,Hist,Media,Food/ganamembers.txt\n",
            "          954  Humor,Hist,Media,Food/girlspeak.txt\n",
            "          955  Humor,Hist,Media,Food/trekfume.txt\n",
            "          956  Humor,Hist,Media,Food/turing.shr\n",
            "          957  Humor,Hist,Media,Food/valujet.txt\n",
            "          958  Humor,Hist,Media,Food/computer.txt\n",
            "          959  Humor,Hist,Media,Food/jokes1.txt\n",
            "          960  Humor,Hist,Media,Food/lawyers.txt\n",
            "          961  Humor,Hist,Media,Food/cops.txt\n",
            "          962  Humor,Hist,Media,Food/fbipizza.txt\n",
            "          963  Humor,Hist,Media,Food/mcd.txt\n",
            "          964  Humor,Hist,Media,Food/nasaglenn.txt\n",
            "          965  Humor,Hist,Media,Food/bhb.ill\n",
            "          966  Humor,Hist,Media,Food/bond-2.txt\n",
            "          967  Humor,Hist,Media,Food/indgrdn.txt\n",
            "          968  Humor,Hist,Media,Food/insect1.txt\n",
            "          969  Humor,Hist,Media,Food/quantity.001\n",
            "          970  Humor,Hist,Media,Food/sawyer.txt\n",
            "          971  Humor,Hist,Media,Food/exidy.txt\n",
            "          973  Humor,Hist,Media,Food/yuban.txt\n",
            "          974  Humor,Hist,Media,Food/planetzero.txt\n",
            "          977  Humor,Hist,Media,Food/moore.txt\n",
            "          978  Humor,Hist,Media,Food/chickenheadbbs.txt\n",
            "          979  Humor,Hist,Media,Food/phxbbs-m.txt\n",
            "          981  Humor,Hist,Media,Food/silverclaws.txt\n",
            "          982  Humor,Hist,Media,Food/namaste.txt\n",
            "          983  Humor,Hist,Media,Food/crazy.txt\n",
            "          984  Humor,Hist,Media,Food/lifeonledge.txt\n",
            "          985  Humor,Hist,Media,Food/lipkovits.txt\n",
            "          986  Humor,Hist,Media,Food/basehead.txt\n",
            "          987  Humor,Hist,Media,Food/draxamus.txt\n",
            "          988  Humor,Hist,Media,Food/stressman.txt\n",
            "          989  Humor,Hist,Media,Food/exylic.txt\n",
            "          990  Humor,Hist,Media,Food/apsnet.txt\n",
            "          991  Humor,Hist,Media,Food/lansing.txt\n",
            "          992  Humor,Hist,Media,Food/heroic.txt\n",
            "          993  Humor,Hist,Media,Food/onan.txt\n",
            "          994  Humor,Hist,Media,Food/teevee.hum\n",
            "          995  Humor,Hist,Media,Food/disclmr.txt\n",
            "          996  Humor,Hist,Media,Food/grail.txt\n",
            "          997  Humor,Hist,Media,Food/hacktest.txt\n",
            "          998  Humor,Hist,Media,Food/mel.txt\n",
            "          999  Humor,Hist,Media,Food/hackingcracking.txt\n",
            "         1000  Humor,Hist,Media,Food/adameve.hum\n",
            "         1001  Humor,Hist,Media,Food/analogy.hum\n",
            "         1002  Humor,Hist,Media,Food/bingbong.hum\n",
            "         1003  Humor,Hist,Media,Food/charity.hum\n",
            "         1004  Humor,Hist,Media,Food/saveface.hum\n",
            "         1005  Humor,Hist,Media,Food/reconcil.hum\n",
            "         1006  Humor,Hist,Media,Food/cheapfar.hum\n",
            "         1007  Humor,Hist,Media,Food/poets.hum\n",
            "         1008  Humor,Hist,Media,Food/ghostfun.hum\n",
            "         1010  Humor,Hist,Media,Food/drugshum.hum\n",
            "         1011  Humor,Hist,Media,Food/parades.hum\n",
            "         1012  Humor,Hist,Media,Food/modest.hum\n",
            "         1014  Humor,Hist,Media,Food/brainect.hum\n",
            "         1015  Humor,Hist,Media,Food/whatthe.hum\n",
            "         1016  Humor,Hist,Media,Food/watchlip.hum\n",
            "         1017  Humor,Hist,Media,Food/symbol.hum\n",
            "         1018  Humor,Hist,Media,Food/shameonu.hum\n",
            "         1019  Humor,Hist,Media,Food/solders.hum\n",
            "         1020  Humor,Hist,Media,Food/weights.hum\n",
            "         1021  Humor,Hist,Media,Food/spacever.hum\n",
            "         1023  Humor,Hist,Media,Food/kaboom.hum\n",
            "         1024  Humor,Hist,Media,Food/memory.hum\n",
            "         1026  Humor,Hist,Media,Food/adcopy.hum\n",
            "         1027  Humor,Hist,Media,Food/zen.txt\n",
            "         1029  Humor,Hist,Media,Food/b-2.jok\n",
            "         1030  Humor,Hist,Media,Food/abbott.txt\n",
            "         1031  Humor,Hist,Media,Food/manager.txt\n",
            "         1032  Humor,Hist,Media,Food/admin.txt\n",
            "         1034  Humor,Hist,Media,Food/alcatax.txt\n",
            "         1035  Humor,Hist,Media,Food/suicide2.txt\n",
            "         1036  Humor,Hist,Media,Food/nigel10.txt\n",
            "         1037  Humor,Hist,Media,Food/alflog.txt\n",
            "         1038  Humor,Hist,Media,Food/atombomb.hum\n",
            "         1039  Humor,Hist,Media,Food/bank.rob\n",
            "         1040  Humor,Hist,Media,Food/cancer.rat\n",
            "         1041  Humor,Hist,Media,Food/boatmemo.jok\n",
            "         1042  Humor,Hist,Media,Food/answers\n",
            "         1043  Humor,Hist,Media,Food/badday.hum\n",
            "         1044  Humor,Hist,Media,Food/alabama.txt\n",
            "         1045  Humor,Hist,Media,Food/beer.hum\n",
            "         1046  Humor,Hist,Media,Food/catin.hat\n",
            "         1047  Humor,Hist,Media,Food/beave.hum\n",
            "         1048  Humor,Hist,Media,Food/beapimp.hum\n",
            "         1049  Humor,Hist,Media,Food/bigpic1.hum\n",
            "         1050  Humor,Hist,Media,Food/argotdic.txt\n",
            "         1051  Humor,Hist,Media,Food/bitchcar.hum\n",
            "         1052  Humor,Hist,Media,Food/blackapp.hum\n",
            "         1053  Humor,Hist,Media,Food/browneco.hum\n",
            "         1054  Humor,Hist,Media,Food/blackhol.hum\n",
            "         1055  Humor,Hist,Media,Food/cold.fus\n",
            "         1056  Humor,Hist,Media,Food/boe.hum\n",
            "         1057  Humor,Hist,Media,Food/blaster.hum\n",
            "         1058  Humor,Hist,Media,Food/cheapin.la\n",
            "         1059  Humor,Hist,Media,Food/bugbreak.hum\n",
            "         1060  Humor,Hist,Media,Food/btcisfre.hum\n",
            "         1061  Humor,Hist,Media,Food/cabbage.txt\n",
            "         1062  Humor,Hist,Media,Food/buzzword.hum\n",
            "         1063  Humor,Hist,Media,Food/butwrong.hum\n",
            "         1064  Humor,Hist,Media,Food/chickens.jok\n",
            "         1065  Humor,Hist,Media,Food/calif.hum\n",
            "         1067  Humor,Hist,Media,Food/merry.txt\n",
            "         1068  Humor,Hist,Media,Food/catballs.hum\n",
            "         1069  Humor,Hist,Media,Food/cockney.alp\n",
            "         1070  Humor,Hist,Media,Food/macsfarm.old\n",
            "         1071  Humor,Hist,Media,Food/chinesec.hum\n",
            "         1072  Humor,Hist,Media,Food/cbmatic.hum\n",
            "         1073  Humor,Hist,Media,Food/change.hum\n",
            "         1074  Humor,Hist,Media,Food/catranch.hum\n",
            "         1075  Humor,Hist,Media,Food/college.sla\n",
            "         1076  Humor,Hist,Media,Food/madhattr.jok\n",
            "         1077  Humor,Hist,Media,Food/making_y.wel\n",
            "         1078  Humor,Hist,Media,Food/coldfake.hum\n",
            "         1079  Humor,Hist,Media,Food/nukewar.jok\n",
            "         1080  Humor,Hist,Media,Food/malechem.txt\n",
            "         1081  Humor,Hist,Media,Food/arab.dic\n",
            "         1082  Humor,Hist,Media,Food/cucumber.jok\n",
            "         1083  Humor,Hist,Media,Food/number_k.ill\n",
            "         1085  Humor,Hist,Media,Food/comrevi1.hum\n",
            "         1086  Humor,Hist,Media,Food/cowexplo.hum\n",
            "         1087  Humor,Hist,Media,Food/rabbit.txt\n",
            "         1089  Humor,Hist,Media,Food/addrmeri.txt\n",
            "         1090  Humor,Hist,Media,Food/anthropo.stu\n",
            "         1091  Humor,Hist,Media,Food/dark.suc\n",
            "         1092  Humor,Hist,Media,Food/d-ned.hum\n",
            "         1094  Humor,Hist,Media,Food/failure.txt\n",
            "         1096  Humor,Hist,Media,Food/deterior.hum\n",
            "         1097  Humor,Hist,Media,Food/druggame.hum\n",
            "         1098  Humor,Hist,Media,Food/dingding.hum\n",
            "         1099  Humor,Hist,Media,Food/disaster.hum\n",
            "         1100  Humor,Hist,Media,Food/art-fart.hum\n",
            "         1101  Humor,Hist,Media,Food/defectiv.hum\n",
            "         1103  Humor,Hist,Media,Food/age.txt\n",
            "         1104  Humor,Hist,Media,Food/doggun.sto\n",
            "         1105  Humor,Hist,Media,Food/bad-d\n",
            "         1107  Humor,Hist,Media,Food/murphy_l.txt\n",
            "         1108  Humor,Hist,Media,Food/engineer.hum\n",
            "         1109  Humor,Hist,Media,Food/beerdiag.txt\n",
            "         1110  Humor,Hist,Media,Food/bad.jok\n",
            "         1111  Humor,Hist,Media,Food/drinking.tro\n",
            "         1112  Humor,Hist,Media,Food/firstaid.txt\n",
            "         1113  Humor,Hist,Media,Food/record_.gap\n",
            "         1114  Humor,Hist,Media,Food/footfun.hum\n",
            "         1115  Humor,Hist,Media,Food/middle.age\n",
            "         1116  Humor,Hist,Media,Food/flattax.hum\n",
            "         1118  Humor,Hist,Media,Food/relative.ada\n",
            "         1119  Humor,Hist,Media,Food/finalexm.hum\n",
            "         1120  Humor,Hist,Media,Food/revolt.dj\n",
            "         1121  Humor,Hist,Media,Food/residncy.jok\n",
            "         1122  Humor,Hist,Media,Food/freshman.hum\n",
            "         1123  Humor,Hist,Media,Food/resrch_p.hra\n",
            "         1124  Humor,Hist,Media,Food/forsooth.hum\n",
            "         1126  Humor,Hist,Media,Food/men&wome.txt\n",
            "         1127  Humor,Hist,Media,Food/mensroom.jok\n",
            "         1128  Humor,Hist,Media,Food/fwksfun.hum\n",
            "         1129  Humor,Hist,Media,Food/female.jok\n",
            "         1130  Humor,Hist,Media,Food/goforth.hum\n",
            "         1131  Humor,Hist,Media,Food/gohome.hum\n",
            "         1132  Humor,Hist,Media,Food/rinaldos.txt\n",
            "         1132  Humor,Hist,Media,Food/rinaldos.txt\n",
            "         1132  Humor,Hist,Media,Food/rinaldos.txt\n",
            "         1132  Humor,Hist,Media,Food/rinaldos.txt\n",
            "         1132  Humor,Hist,Media,Food/rinaldos.txt\n"
          ]
        }
      ],
      "source": [
        "main_()\n"
      ]
    },
    {
      "cell_type": "code",
      "execution_count": null,
      "metadata": {
        "id": "gaya3gv65mhj"
      },
      "outputs": [],
      "source": [
        ""
      ]
    }
  ],
  "metadata": {
    "colab": {
      "name": "IR_Q1.ipynb",
      "provenance": [],
      "collapsed_sections": [],
      "toc_visible": true,
      "include_colab_link": true
    },
    "kernelspec": {
      "display_name": "Python 3",
      "name": "python3"
    },
    "language_info": {
      "name": "python"
    }
  },
  "nbformat": 4,
  "nbformat_minor": 0
}